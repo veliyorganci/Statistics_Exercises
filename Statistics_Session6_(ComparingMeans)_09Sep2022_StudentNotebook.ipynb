{
  "cells": [
    {
      "cell_type": "markdown",
      "metadata": {
        "id": "view-in-github",
        "colab_type": "text"
      },
      "source": [
        "<a href=\"https://colab.research.google.com/github/veliyorganci/Statistics_Exercises/blob/main/Statistics_Session6_(ComparingMeans)_09Sep2022_StudentNotebook.ipynb\" target=\"_parent\"><img src=\"https://colab.research.google.com/assets/colab-badge.svg\" alt=\"Open In Colab\"/></a>"
      ]
    },
    {
      "cell_type": "markdown",
      "metadata": {
        "id": "V9CmQjCv4a2L"
      },
      "source": [
        "# Independent Samples T Test"
      ]
    },
    {
      "cell_type": "markdown",
      "metadata": {
        "id": "U2O8ai0f4a2O"
      },
      "source": [
        "## Arsenic Example"
      ]
    },
    {
      "cell_type": "markdown",
      "metadata": {
        "id": "-87gMxQ44a2P"
      },
      "source": [
        "- Arsenic concentration in public drinking water supplies is a potential health risk. \n",
        "- An article in the Arizona Republic (May 27, 2001) reported drinking water arsenic concentrations in parts per billion (ppb) for 10 metropolitan Phoenix communities and 10 communities in rural Arizona.\n",
        "- You can find the data in CSV file."
      ]
    },
    {
      "cell_type": "code",
      "execution_count": 3,
      "metadata": {
        "id": "0NKooQs64a2Q"
      },
      "outputs": [],
      "source": [
        "import pandas as pd\n",
        "import scipy.stats as stats\n",
        "import numpy as np\n",
        "import pandas as pd "
      ]
    },
    {
      "cell_type": "code",
      "execution_count": 5,
      "metadata": {
        "colab": {
          "base_uri": "https://localhost:8080/",
          "height": 363
        },
        "id": "NvTmkijq4a2R",
        "outputId": "0abece72-2810-4cc5-d6b0-4fe44435e8fd"
      },
      "outputs": [
        {
          "output_type": "execute_result",
          "data": {
            "text/plain": [
              "     Metro Phoenix  x1      Rural Arizona  x2\n",
              "0          Phoenix   3            Rimrock  48\n",
              "1         Chandler   7           Goodyear  44\n",
              "2          Gilbert  25          New River  40\n",
              "3         Glendale  10    Apache Junction  38\n",
              "4             Mesa  15            Buckeye  33\n",
              "5  Paradise Valley   6            Nogales  21\n",
              "6           Peoria  12  Black Canyon City  20\n",
              "7       Scottsdale  25             Sedona  12\n",
              "8            Tempe  15             Payson   1\n",
              "9         Sun City   7        Casa Grande  18"
            ],
            "text/html": [
              "\n",
              "  <div id=\"df-67df47e7-0078-4f86-bc84-58ff7f16e265\">\n",
              "    <div class=\"colab-df-container\">\n",
              "      <div>\n",
              "<style scoped>\n",
              "    .dataframe tbody tr th:only-of-type {\n",
              "        vertical-align: middle;\n",
              "    }\n",
              "\n",
              "    .dataframe tbody tr th {\n",
              "        vertical-align: top;\n",
              "    }\n",
              "\n",
              "    .dataframe thead th {\n",
              "        text-align: right;\n",
              "    }\n",
              "</style>\n",
              "<table border=\"1\" class=\"dataframe\">\n",
              "  <thead>\n",
              "    <tr style=\"text-align: right;\">\n",
              "      <th></th>\n",
              "      <th>Metro Phoenix</th>\n",
              "      <th>x1</th>\n",
              "      <th>Rural Arizona</th>\n",
              "      <th>x2</th>\n",
              "    </tr>\n",
              "  </thead>\n",
              "  <tbody>\n",
              "    <tr>\n",
              "      <th>0</th>\n",
              "      <td>Phoenix</td>\n",
              "      <td>3</td>\n",
              "      <td>Rimrock</td>\n",
              "      <td>48</td>\n",
              "    </tr>\n",
              "    <tr>\n",
              "      <th>1</th>\n",
              "      <td>Chandler</td>\n",
              "      <td>7</td>\n",
              "      <td>Goodyear</td>\n",
              "      <td>44</td>\n",
              "    </tr>\n",
              "    <tr>\n",
              "      <th>2</th>\n",
              "      <td>Gilbert</td>\n",
              "      <td>25</td>\n",
              "      <td>New River</td>\n",
              "      <td>40</td>\n",
              "    </tr>\n",
              "    <tr>\n",
              "      <th>3</th>\n",
              "      <td>Glendale</td>\n",
              "      <td>10</td>\n",
              "      <td>Apache Junction</td>\n",
              "      <td>38</td>\n",
              "    </tr>\n",
              "    <tr>\n",
              "      <th>4</th>\n",
              "      <td>Mesa</td>\n",
              "      <td>15</td>\n",
              "      <td>Buckeye</td>\n",
              "      <td>33</td>\n",
              "    </tr>\n",
              "    <tr>\n",
              "      <th>5</th>\n",
              "      <td>Paradise Valley</td>\n",
              "      <td>6</td>\n",
              "      <td>Nogales</td>\n",
              "      <td>21</td>\n",
              "    </tr>\n",
              "    <tr>\n",
              "      <th>6</th>\n",
              "      <td>Peoria</td>\n",
              "      <td>12</td>\n",
              "      <td>Black Canyon City</td>\n",
              "      <td>20</td>\n",
              "    </tr>\n",
              "    <tr>\n",
              "      <th>7</th>\n",
              "      <td>Scottsdale</td>\n",
              "      <td>25</td>\n",
              "      <td>Sedona</td>\n",
              "      <td>12</td>\n",
              "    </tr>\n",
              "    <tr>\n",
              "      <th>8</th>\n",
              "      <td>Tempe</td>\n",
              "      <td>15</td>\n",
              "      <td>Payson</td>\n",
              "      <td>1</td>\n",
              "    </tr>\n",
              "    <tr>\n",
              "      <th>9</th>\n",
              "      <td>Sun City</td>\n",
              "      <td>7</td>\n",
              "      <td>Casa Grande</td>\n",
              "      <td>18</td>\n",
              "    </tr>\n",
              "  </tbody>\n",
              "</table>\n",
              "</div>\n",
              "      <button class=\"colab-df-convert\" onclick=\"convertToInteractive('df-67df47e7-0078-4f86-bc84-58ff7f16e265')\"\n",
              "              title=\"Convert this dataframe to an interactive table.\"\n",
              "              style=\"display:none;\">\n",
              "        \n",
              "  <svg xmlns=\"http://www.w3.org/2000/svg\" height=\"24px\"viewBox=\"0 0 24 24\"\n",
              "       width=\"24px\">\n",
              "    <path d=\"M0 0h24v24H0V0z\" fill=\"none\"/>\n",
              "    <path d=\"M18.56 5.44l.94 2.06.94-2.06 2.06-.94-2.06-.94-.94-2.06-.94 2.06-2.06.94zm-11 1L8.5 8.5l.94-2.06 2.06-.94-2.06-.94L8.5 2.5l-.94 2.06-2.06.94zm10 10l.94 2.06.94-2.06 2.06-.94-2.06-.94-.94-2.06-.94 2.06-2.06.94z\"/><path d=\"M17.41 7.96l-1.37-1.37c-.4-.4-.92-.59-1.43-.59-.52 0-1.04.2-1.43.59L10.3 9.45l-7.72 7.72c-.78.78-.78 2.05 0 2.83L4 21.41c.39.39.9.59 1.41.59.51 0 1.02-.2 1.41-.59l7.78-7.78 2.81-2.81c.8-.78.8-2.07 0-2.86zM5.41 20L4 18.59l7.72-7.72 1.47 1.35L5.41 20z\"/>\n",
              "  </svg>\n",
              "      </button>\n",
              "      \n",
              "  <style>\n",
              "    .colab-df-container {\n",
              "      display:flex;\n",
              "      flex-wrap:wrap;\n",
              "      gap: 12px;\n",
              "    }\n",
              "\n",
              "    .colab-df-convert {\n",
              "      background-color: #E8F0FE;\n",
              "      border: none;\n",
              "      border-radius: 50%;\n",
              "      cursor: pointer;\n",
              "      display: none;\n",
              "      fill: #1967D2;\n",
              "      height: 32px;\n",
              "      padding: 0 0 0 0;\n",
              "      width: 32px;\n",
              "    }\n",
              "\n",
              "    .colab-df-convert:hover {\n",
              "      background-color: #E2EBFA;\n",
              "      box-shadow: 0px 1px 2px rgba(60, 64, 67, 0.3), 0px 1px 3px 1px rgba(60, 64, 67, 0.15);\n",
              "      fill: #174EA6;\n",
              "    }\n",
              "\n",
              "    [theme=dark] .colab-df-convert {\n",
              "      background-color: #3B4455;\n",
              "      fill: #D2E3FC;\n",
              "    }\n",
              "\n",
              "    [theme=dark] .colab-df-convert:hover {\n",
              "      background-color: #434B5C;\n",
              "      box-shadow: 0px 1px 3px 1px rgba(0, 0, 0, 0.15);\n",
              "      filter: drop-shadow(0px 1px 2px rgba(0, 0, 0, 0.3));\n",
              "      fill: #FFFFFF;\n",
              "    }\n",
              "  </style>\n",
              "\n",
              "      <script>\n",
              "        const buttonEl =\n",
              "          document.querySelector('#df-67df47e7-0078-4f86-bc84-58ff7f16e265 button.colab-df-convert');\n",
              "        buttonEl.style.display =\n",
              "          google.colab.kernel.accessAllowed ? 'block' : 'none';\n",
              "\n",
              "        async function convertToInteractive(key) {\n",
              "          const element = document.querySelector('#df-67df47e7-0078-4f86-bc84-58ff7f16e265');\n",
              "          const dataTable =\n",
              "            await google.colab.kernel.invokeFunction('convertToInteractive',\n",
              "                                                     [key], {});\n",
              "          if (!dataTable) return;\n",
              "\n",
              "          const docLinkHtml = 'Like what you see? Visit the ' +\n",
              "            '<a target=\"_blank\" href=https://colab.research.google.com/notebooks/data_table.ipynb>data table notebook</a>'\n",
              "            + ' to learn more about interactive tables.';\n",
              "          element.innerHTML = '';\n",
              "          dataTable['output_type'] = 'display_data';\n",
              "          await google.colab.output.renderOutput(dataTable, element);\n",
              "          const docLink = document.createElement('div');\n",
              "          docLink.innerHTML = docLinkHtml;\n",
              "          element.appendChild(docLink);\n",
              "        }\n",
              "      </script>\n",
              "    </div>\n",
              "  </div>\n",
              "  "
            ]
          },
          "metadata": {},
          "execution_count": 5
        }
      ],
      "source": [
        "df = pd.read_csv(\"/content/arsenic.csv\")\n",
        "df"
      ]
    },
    {
      "cell_type": "code",
      "execution_count": 6,
      "metadata": {
        "colab": {
          "base_uri": "https://localhost:8080/"
        },
        "id": "ufHpzeQc4a2S",
        "outputId": "c685bd8a-8dd3-4f38-c8f3-0c1f35fe2cfb"
      },
      "outputs": [
        {
          "output_type": "execute_result",
          "data": {
            "text/plain": [
              "12.5"
            ]
          },
          "metadata": {},
          "execution_count": 6
        }
      ],
      "source": [
        "df.x1.mean()  #x1 kolon ort   "
      ]
    },
    {
      "cell_type": "code",
      "execution_count": 7,
      "metadata": {
        "colab": {
          "base_uri": "https://localhost:8080/"
        },
        "id": "T-KvGoiC4a2S",
        "outputId": "71c12029-2977-4f79-d1cd-a6092abbd96c"
      },
      "outputs": [
        {
          "output_type": "execute_result",
          "data": {
            "text/plain": [
              "Ttest_indResult(statistic=-2.7669395785560553, pvalue=0.012704425122128032)"
            ]
          },
          "metadata": {},
          "execution_count": 7
        }
      ],
      "source": [
        "stats.ttest_ind(df.x1, df.x2)"
      ]
    },
    {
      "cell_type": "code",
      "execution_count": 8,
      "metadata": {
        "id": "kQ8zdAvp4a2T"
      },
      "outputs": [],
      "source": [
        "indTest = stats.ttest_ind(df.x1, df.x2)"
      ]
    },
    {
      "cell_type": "code",
      "execution_count": 9,
      "metadata": {
        "colab": {
          "base_uri": "https://localhost:8080/"
        },
        "id": "__FcaEqY4a2T",
        "outputId": "3ebedc6d-4adb-48b9-d370-f875eab08dd9"
      },
      "outputs": [
        {
          "output_type": "execute_result",
          "data": {
            "text/plain": [
              "-2.7669395785560553"
            ]
          },
          "metadata": {},
          "execution_count": 9
        }
      ],
      "source": [
        "indTest.statistic"
      ]
    },
    {
      "cell_type": "code",
      "execution_count": 10,
      "metadata": {
        "colab": {
          "base_uri": "https://localhost:8080/"
        },
        "id": "2oM5y0Sl4a2U",
        "outputId": "0c7f6d91-156c-4dae-cae7-9ee5ecfb05b9"
      },
      "outputs": [
        {
          "output_type": "execute_result",
          "data": {
            "text/plain": [
              "0.012704425122128032"
            ]
          },
          "metadata": {},
          "execution_count": 10
        }
      ],
      "source": [
        "indTest.pvalue"
      ]
    },
    {
      "cell_type": "code",
      "execution_count": 11,
      "metadata": {
        "colab": {
          "base_uri": "https://localhost:8080/"
        },
        "id": "EiCYPYJi4a2V",
        "outputId": "e2e1ae7b-3b1c-499a-d24f-29a210194c54"
      },
      "outputs": [
        {
          "output_type": "stream",
          "name": "stdout",
          "text": [
            "Reject the Null\n"
          ]
        }
      ],
      "source": [
        "alpha = 0.05   # standart alpha 0.05 kullanabiliriz, 0.05 anlamlılık seviyesinde değerlendirmiş oluruz. \n",
        "if indTest.pvalue < alpha:\n",
        "    print(\"Reject the Null\")\n",
        "else:\n",
        "    print(\"Fail to reject\")"
      ]
    },
    {
      "cell_type": "markdown",
      "metadata": {
        "id": "hgnTjFX24a2V"
      },
      "source": [
        "# Prozac Data"
      ]
    },
    {
      "cell_type": "markdown",
      "metadata": {
        "id": "kyN94eYh4a2W"
      },
      "source": [
        "- Let us consider a simple example of what is often termed \"pre/post\" data or \"pretest/posttest\" data. \n",
        "- Suppose you wish to test the effect of Prozac on the well-being of depressed individuals, using a standardised \"well-being scale\" that sums Likert-type items to obtain a score that could range from 0 to 20. \n",
        "- Higher scores indicate greater well-being (that is, Prozac is having a positive effect). \n",
        "- While there are flaws in this design (e.g., lack of a control group) it will serve as an example of how to analyse such data."
      ]
    },
    {
      "cell_type": "markdown",
      "metadata": {
        "id": "OC0fo2Cn4a2X"
      },
      "source": [
        "Determine if Prozac enhances well-being in depressed individuals. Use   0.05\n"
      ]
    },
    {
      "cell_type": "code",
      "execution_count": 13,
      "metadata": {
        "colab": {
          "base_uri": "https://localhost:8080/",
          "height": 332
        },
        "id": "Ta-HC7bE4a2X",
        "outputId": "ae8206d5-9d66-4fd4-d4ce-00c0f102ebdd"
      },
      "outputs": [
        {
          "output_type": "execute_result",
          "data": {
            "text/plain": [
              "   moodpre  moodpost  difference\n",
              "0        3         5           2\n",
              "1        0         1           1\n",
              "2        6         5          -1\n",
              "3        7         7           0\n",
              "4        4        10           6\n",
              "5        3         9           6\n",
              "6        2         7           5\n",
              "7        1        11          10\n",
              "8        4         8           4"
            ],
            "text/html": [
              "\n",
              "  <div id=\"df-da3e25a8-faca-463f-9915-0e6bd7f32dcc\">\n",
              "    <div class=\"colab-df-container\">\n",
              "      <div>\n",
              "<style scoped>\n",
              "    .dataframe tbody tr th:only-of-type {\n",
              "        vertical-align: middle;\n",
              "    }\n",
              "\n",
              "    .dataframe tbody tr th {\n",
              "        vertical-align: top;\n",
              "    }\n",
              "\n",
              "    .dataframe thead th {\n",
              "        text-align: right;\n",
              "    }\n",
              "</style>\n",
              "<table border=\"1\" class=\"dataframe\">\n",
              "  <thead>\n",
              "    <tr style=\"text-align: right;\">\n",
              "      <th></th>\n",
              "      <th>moodpre</th>\n",
              "      <th>moodpost</th>\n",
              "      <th>difference</th>\n",
              "    </tr>\n",
              "  </thead>\n",
              "  <tbody>\n",
              "    <tr>\n",
              "      <th>0</th>\n",
              "      <td>3</td>\n",
              "      <td>5</td>\n",
              "      <td>2</td>\n",
              "    </tr>\n",
              "    <tr>\n",
              "      <th>1</th>\n",
              "      <td>0</td>\n",
              "      <td>1</td>\n",
              "      <td>1</td>\n",
              "    </tr>\n",
              "    <tr>\n",
              "      <th>2</th>\n",
              "      <td>6</td>\n",
              "      <td>5</td>\n",
              "      <td>-1</td>\n",
              "    </tr>\n",
              "    <tr>\n",
              "      <th>3</th>\n",
              "      <td>7</td>\n",
              "      <td>7</td>\n",
              "      <td>0</td>\n",
              "    </tr>\n",
              "    <tr>\n",
              "      <th>4</th>\n",
              "      <td>4</td>\n",
              "      <td>10</td>\n",
              "      <td>6</td>\n",
              "    </tr>\n",
              "    <tr>\n",
              "      <th>5</th>\n",
              "      <td>3</td>\n",
              "      <td>9</td>\n",
              "      <td>6</td>\n",
              "    </tr>\n",
              "    <tr>\n",
              "      <th>6</th>\n",
              "      <td>2</td>\n",
              "      <td>7</td>\n",
              "      <td>5</td>\n",
              "    </tr>\n",
              "    <tr>\n",
              "      <th>7</th>\n",
              "      <td>1</td>\n",
              "      <td>11</td>\n",
              "      <td>10</td>\n",
              "    </tr>\n",
              "    <tr>\n",
              "      <th>8</th>\n",
              "      <td>4</td>\n",
              "      <td>8</td>\n",
              "      <td>4</td>\n",
              "    </tr>\n",
              "  </tbody>\n",
              "</table>\n",
              "</div>\n",
              "      <button class=\"colab-df-convert\" onclick=\"convertToInteractive('df-da3e25a8-faca-463f-9915-0e6bd7f32dcc')\"\n",
              "              title=\"Convert this dataframe to an interactive table.\"\n",
              "              style=\"display:none;\">\n",
              "        \n",
              "  <svg xmlns=\"http://www.w3.org/2000/svg\" height=\"24px\"viewBox=\"0 0 24 24\"\n",
              "       width=\"24px\">\n",
              "    <path d=\"M0 0h24v24H0V0z\" fill=\"none\"/>\n",
              "    <path d=\"M18.56 5.44l.94 2.06.94-2.06 2.06-.94-2.06-.94-.94-2.06-.94 2.06-2.06.94zm-11 1L8.5 8.5l.94-2.06 2.06-.94-2.06-.94L8.5 2.5l-.94 2.06-2.06.94zm10 10l.94 2.06.94-2.06 2.06-.94-2.06-.94-.94-2.06-.94 2.06-2.06.94z\"/><path d=\"M17.41 7.96l-1.37-1.37c-.4-.4-.92-.59-1.43-.59-.52 0-1.04.2-1.43.59L10.3 9.45l-7.72 7.72c-.78.78-.78 2.05 0 2.83L4 21.41c.39.39.9.59 1.41.59.51 0 1.02-.2 1.41-.59l7.78-7.78 2.81-2.81c.8-.78.8-2.07 0-2.86zM5.41 20L4 18.59l7.72-7.72 1.47 1.35L5.41 20z\"/>\n",
              "  </svg>\n",
              "      </button>\n",
              "      \n",
              "  <style>\n",
              "    .colab-df-container {\n",
              "      display:flex;\n",
              "      flex-wrap:wrap;\n",
              "      gap: 12px;\n",
              "    }\n",
              "\n",
              "    .colab-df-convert {\n",
              "      background-color: #E8F0FE;\n",
              "      border: none;\n",
              "      border-radius: 50%;\n",
              "      cursor: pointer;\n",
              "      display: none;\n",
              "      fill: #1967D2;\n",
              "      height: 32px;\n",
              "      padding: 0 0 0 0;\n",
              "      width: 32px;\n",
              "    }\n",
              "\n",
              "    .colab-df-convert:hover {\n",
              "      background-color: #E2EBFA;\n",
              "      box-shadow: 0px 1px 2px rgba(60, 64, 67, 0.3), 0px 1px 3px 1px rgba(60, 64, 67, 0.15);\n",
              "      fill: #174EA6;\n",
              "    }\n",
              "\n",
              "    [theme=dark] .colab-df-convert {\n",
              "      background-color: #3B4455;\n",
              "      fill: #D2E3FC;\n",
              "    }\n",
              "\n",
              "    [theme=dark] .colab-df-convert:hover {\n",
              "      background-color: #434B5C;\n",
              "      box-shadow: 0px 1px 3px 1px rgba(0, 0, 0, 0.15);\n",
              "      filter: drop-shadow(0px 1px 2px rgba(0, 0, 0, 0.3));\n",
              "      fill: #FFFFFF;\n",
              "    }\n",
              "  </style>\n",
              "\n",
              "      <script>\n",
              "        const buttonEl =\n",
              "          document.querySelector('#df-da3e25a8-faca-463f-9915-0e6bd7f32dcc button.colab-df-convert');\n",
              "        buttonEl.style.display =\n",
              "          google.colab.kernel.accessAllowed ? 'block' : 'none';\n",
              "\n",
              "        async function convertToInteractive(key) {\n",
              "          const element = document.querySelector('#df-da3e25a8-faca-463f-9915-0e6bd7f32dcc');\n",
              "          const dataTable =\n",
              "            await google.colab.kernel.invokeFunction('convertToInteractive',\n",
              "                                                     [key], {});\n",
              "          if (!dataTable) return;\n",
              "\n",
              "          const docLinkHtml = 'Like what you see? Visit the ' +\n",
              "            '<a target=\"_blank\" href=https://colab.research.google.com/notebooks/data_table.ipynb>data table notebook</a>'\n",
              "            + ' to learn more about interactive tables.';\n",
              "          element.innerHTML = '';\n",
              "          dataTable['output_type'] = 'display_data';\n",
              "          await google.colab.output.renderOutput(dataTable, element);\n",
              "          const docLink = document.createElement('div');\n",
              "          docLink.innerHTML = docLinkHtml;\n",
              "          element.appendChild(docLink);\n",
              "        }\n",
              "      </script>\n",
              "    </div>\n",
              "  </div>\n",
              "  "
            ]
          },
          "metadata": {},
          "execution_count": 13
        }
      ],
      "source": [
        "prozac = pd.read_csv(\"/content/prozac.csv\")\n",
        "prozac"
      ]
    },
    {
      "cell_type": "markdown",
      "metadata": {
        "id": "_G_ejCc14a2Y"
      },
      "source": [
        "H0: dbar = 0\n",
        "\n",
        "H1: dbar > 0"
      ]
    },
    {
      "cell_type": "code",
      "execution_count": null,
      "metadata": {
        "id": "HqCRtVNF4a2c"
      },
      "outputs": [],
      "source": [
        "# stats.ttest_rel(a, b, axis=0, nan_policy='propagate', alternative='two-sided')"
      ]
    },
    {
      "cell_type": "code",
      "execution_count": 17,
      "metadata": {
        "colab": {
          "base_uri": "https://localhost:8080/"
        },
        "id": "NehlqYXz4a2e",
        "outputId": "185dc514-355b-4397-fafb-68c88521c595"
      },
      "outputs": [
        {
          "output_type": "execute_result",
          "data": {
            "text/plain": [
              "Ttest_relResult(statistic=3.1428571428571423, pvalue=0.006872912197394244)"
            ]
          },
          "metadata": {},
          "execution_count": 17
        }
      ],
      "source": [
        "stats.ttest_rel(prozac.moodpost, prozac.moodpre, axis=0, alternative='greater')   # prozac.moodpost \"greater\" veya prozac.moodpre \"less\""
      ]
    },
    {
      "cell_type": "code",
      "source": [
        "stats.ttest_rel(prozac.moodpre, prozac.moodpost, axis=0, alternative='less')  "
      ],
      "metadata": {
        "colab": {
          "base_uri": "https://localhost:8080/"
        },
        "id": "H8fbS65u8wxg",
        "outputId": "b196037e-5950-4628-a62e-057f2c8ea0c9"
      },
      "execution_count": 18,
      "outputs": [
        {
          "output_type": "execute_result",
          "data": {
            "text/plain": [
              "Ttest_relResult(statistic=-3.1428571428571423, pvalue=0.006872912197394244)"
            ]
          },
          "metadata": {},
          "execution_count": 18
        }
      ]
    },
    {
      "cell_type": "markdown",
      "metadata": {
        "id": "FtUWvOhw4a2i"
      },
      "source": [
        "## One-way ANOVA"
      ]
    },
    {
      "cell_type": "markdown",
      "metadata": {
        "id": "p42lJSzH4a2j"
      },
      "source": [
        "In the sample dataset, the variable Sprint is the respondent's time (in seconds) to sprint a given distance, and Smoking is an indicator about whether or not the respondent smokes (0 = Nonsmoker, 1 = Past smoker, 2 = Current smoker). Let's use ANOVA to test if there is a statistically significant difference in sprint time with respect to smoking status. Sprint time will serve as the dependent variable, and smoking status will act as the independent variable.\n",
        "\n",
        "The null and alternative hypotheses of one-way ANOVA can be expressed as:\n",
        "\n",
        "H0: µ0 = µ1 = µ2   (\"all k population means are equal\")\n",
        "\n",
        "H1: At least one µi different  (\"at least one of the k population means is not equal to the others\")"
      ]
    },
    {
      "cell_type": "code",
      "source": [
        "# tek yönlü hipotez analizi"
      ],
      "metadata": {
        "id": "dUEFcVV19ZGb"
      },
      "execution_count": null,
      "outputs": []
    },
    {
      "cell_type": "code",
      "execution_count": 55,
      "metadata": {
        "colab": {
          "base_uri": "https://localhost:8080/",
          "height": 424
        },
        "id": "uLCbUhpY4a2m",
        "outputId": "7ed4194e-c8eb-4f42-cb37-d27427fb51c0"
      },
      "outputs": [
        {
          "output_type": "execute_result",
          "data": {
            "text/plain": [
              "       ids        bday  enrolldate   expgradate Rank                    Major  \\\n",
              "0    43783   3/22/1995                                                          \n",
              "1    20278    1/1/1995                                             Philosophy   \n",
              "2    20389  12/31/1994                                                          \n",
              "3    22820   12/1/1994                                business administration   \n",
              "4    24559  11/10/1994                                                          \n",
              "..     ...         ...         ...          ...  ...                      ...   \n",
              "430  34021   7/18/1987  1-Aug-2011  08-May-2017    4               accounting   \n",
              "431  40697   4/29/1987  1-Aug-2011  09-May-2016    4                            \n",
              "432  34272              1-Aug-2011  09-May-2016    4                  nursing   \n",
              "433  33628              1-Aug-2011  08-May-2017    4                  Nursing   \n",
              "434  39298              1-Aug-2011  08-May-2017    4                            \n",
              "\n",
              "    Gender  Athlete Height  Weight  ... English Reading   Math Writing  \\\n",
              "0        0        0  72.35          ...   88.24    81.5  60.02   81.44   \n",
              "1        0        0  70.66   179.2  ...   89.45   85.25  70.19   73.27   \n",
              "2        0        0  70.68  198.52  ...   96.73   86.88   71.2   84.24   \n",
              "3        1        0         198.34  ...   74.06   88.68  55.89   73.16   \n",
              "4        1        1  67.43  128.17  ...   82.61    77.3  65.52   80.45   \n",
              "..     ...      ...    ...     ...  ...     ...     ...    ...     ...   \n",
              "430      1        0                 ...   87.72   84.99  65.31           \n",
              "431      0        0   68.5  131.92  ...   91.01   86.87  70.25   82.67   \n",
              "432      0        1   68.1  130.07  ...   81.05   85.76  58.16   81.87   \n",
              "433      1        1  69.27  157.26  ...   75.59   85.97  66.84   79.35   \n",
              "434      1        1  66.68  152.33  ...   75.65   77.24  60.24   75.23   \n",
              "\n",
              "            State LiveOnCampus HowCommute CommuteTime SleepTime StudyTime  \n",
              "0        In state            1                                7         1  \n",
              "1                            1                                5         2  \n",
              "2        In state                                             8         7  \n",
              "3        In state            1                                2         6  \n",
              "4    Out of state            1                                7         3  \n",
              "..            ...          ...        ...         ...       ...       ...  \n",
              "430      In state            0          1          18         1        10  \n",
              "431      In state            0          3          26         6        15  \n",
              "432                          0          3          29         6        10  \n",
              "433      In state            0          1          14         4        10  \n",
              "434      In state            0          3          27         2        10  \n",
              "\n",
              "[435 rows x 23 columns]"
            ],
            "text/html": [
              "\n",
              "  <div id=\"df-136d6f15-fd31-45b6-82a0-4869601db1b8\">\n",
              "    <div class=\"colab-df-container\">\n",
              "      <div>\n",
              "<style scoped>\n",
              "    .dataframe tbody tr th:only-of-type {\n",
              "        vertical-align: middle;\n",
              "    }\n",
              "\n",
              "    .dataframe tbody tr th {\n",
              "        vertical-align: top;\n",
              "    }\n",
              "\n",
              "    .dataframe thead th {\n",
              "        text-align: right;\n",
              "    }\n",
              "</style>\n",
              "<table border=\"1\" class=\"dataframe\">\n",
              "  <thead>\n",
              "    <tr style=\"text-align: right;\">\n",
              "      <th></th>\n",
              "      <th>ids</th>\n",
              "      <th>bday</th>\n",
              "      <th>enrolldate</th>\n",
              "      <th>expgradate</th>\n",
              "      <th>Rank</th>\n",
              "      <th>Major</th>\n",
              "      <th>Gender</th>\n",
              "      <th>Athlete</th>\n",
              "      <th>Height</th>\n",
              "      <th>Weight</th>\n",
              "      <th>...</th>\n",
              "      <th>English</th>\n",
              "      <th>Reading</th>\n",
              "      <th>Math</th>\n",
              "      <th>Writing</th>\n",
              "      <th>State</th>\n",
              "      <th>LiveOnCampus</th>\n",
              "      <th>HowCommute</th>\n",
              "      <th>CommuteTime</th>\n",
              "      <th>SleepTime</th>\n",
              "      <th>StudyTime</th>\n",
              "    </tr>\n",
              "  </thead>\n",
              "  <tbody>\n",
              "    <tr>\n",
              "      <th>0</th>\n",
              "      <td>43783</td>\n",
              "      <td>3/22/1995</td>\n",
              "      <td></td>\n",
              "      <td></td>\n",
              "      <td></td>\n",
              "      <td></td>\n",
              "      <td>0</td>\n",
              "      <td>0</td>\n",
              "      <td>72.35</td>\n",
              "      <td></td>\n",
              "      <td>...</td>\n",
              "      <td>88.24</td>\n",
              "      <td>81.5</td>\n",
              "      <td>60.02</td>\n",
              "      <td>81.44</td>\n",
              "      <td>In state</td>\n",
              "      <td>1</td>\n",
              "      <td></td>\n",
              "      <td></td>\n",
              "      <td>7</td>\n",
              "      <td>1</td>\n",
              "    </tr>\n",
              "    <tr>\n",
              "      <th>1</th>\n",
              "      <td>20278</td>\n",
              "      <td>1/1/1995</td>\n",
              "      <td></td>\n",
              "      <td></td>\n",
              "      <td></td>\n",
              "      <td>Philosophy</td>\n",
              "      <td>0</td>\n",
              "      <td>0</td>\n",
              "      <td>70.66</td>\n",
              "      <td>179.2</td>\n",
              "      <td>...</td>\n",
              "      <td>89.45</td>\n",
              "      <td>85.25</td>\n",
              "      <td>70.19</td>\n",
              "      <td>73.27</td>\n",
              "      <td></td>\n",
              "      <td>1</td>\n",
              "      <td></td>\n",
              "      <td></td>\n",
              "      <td>5</td>\n",
              "      <td>2</td>\n",
              "    </tr>\n",
              "    <tr>\n",
              "      <th>2</th>\n",
              "      <td>20389</td>\n",
              "      <td>12/31/1994</td>\n",
              "      <td></td>\n",
              "      <td></td>\n",
              "      <td></td>\n",
              "      <td></td>\n",
              "      <td>0</td>\n",
              "      <td>0</td>\n",
              "      <td>70.68</td>\n",
              "      <td>198.52</td>\n",
              "      <td>...</td>\n",
              "      <td>96.73</td>\n",
              "      <td>86.88</td>\n",
              "      <td>71.2</td>\n",
              "      <td>84.24</td>\n",
              "      <td>In state</td>\n",
              "      <td></td>\n",
              "      <td></td>\n",
              "      <td></td>\n",
              "      <td>8</td>\n",
              "      <td>7</td>\n",
              "    </tr>\n",
              "    <tr>\n",
              "      <th>3</th>\n",
              "      <td>22820</td>\n",
              "      <td>12/1/1994</td>\n",
              "      <td></td>\n",
              "      <td></td>\n",
              "      <td></td>\n",
              "      <td>business administration</td>\n",
              "      <td>1</td>\n",
              "      <td>0</td>\n",
              "      <td></td>\n",
              "      <td>198.34</td>\n",
              "      <td>...</td>\n",
              "      <td>74.06</td>\n",
              "      <td>88.68</td>\n",
              "      <td>55.89</td>\n",
              "      <td>73.16</td>\n",
              "      <td>In state</td>\n",
              "      <td>1</td>\n",
              "      <td></td>\n",
              "      <td></td>\n",
              "      <td>2</td>\n",
              "      <td>6</td>\n",
              "    </tr>\n",
              "    <tr>\n",
              "      <th>4</th>\n",
              "      <td>24559</td>\n",
              "      <td>11/10/1994</td>\n",
              "      <td></td>\n",
              "      <td></td>\n",
              "      <td></td>\n",
              "      <td></td>\n",
              "      <td>1</td>\n",
              "      <td>1</td>\n",
              "      <td>67.43</td>\n",
              "      <td>128.17</td>\n",
              "      <td>...</td>\n",
              "      <td>82.61</td>\n",
              "      <td>77.3</td>\n",
              "      <td>65.52</td>\n",
              "      <td>80.45</td>\n",
              "      <td>Out of state</td>\n",
              "      <td>1</td>\n",
              "      <td></td>\n",
              "      <td></td>\n",
              "      <td>7</td>\n",
              "      <td>3</td>\n",
              "    </tr>\n",
              "    <tr>\n",
              "      <th>...</th>\n",
              "      <td>...</td>\n",
              "      <td>...</td>\n",
              "      <td>...</td>\n",
              "      <td>...</td>\n",
              "      <td>...</td>\n",
              "      <td>...</td>\n",
              "      <td>...</td>\n",
              "      <td>...</td>\n",
              "      <td>...</td>\n",
              "      <td>...</td>\n",
              "      <td>...</td>\n",
              "      <td>...</td>\n",
              "      <td>...</td>\n",
              "      <td>...</td>\n",
              "      <td>...</td>\n",
              "      <td>...</td>\n",
              "      <td>...</td>\n",
              "      <td>...</td>\n",
              "      <td>...</td>\n",
              "      <td>...</td>\n",
              "      <td>...</td>\n",
              "    </tr>\n",
              "    <tr>\n",
              "      <th>430</th>\n",
              "      <td>34021</td>\n",
              "      <td>7/18/1987</td>\n",
              "      <td>1-Aug-2011</td>\n",
              "      <td>08-May-2017</td>\n",
              "      <td>4</td>\n",
              "      <td>accounting</td>\n",
              "      <td>1</td>\n",
              "      <td>0</td>\n",
              "      <td></td>\n",
              "      <td></td>\n",
              "      <td>...</td>\n",
              "      <td>87.72</td>\n",
              "      <td>84.99</td>\n",
              "      <td>65.31</td>\n",
              "      <td></td>\n",
              "      <td>In state</td>\n",
              "      <td>0</td>\n",
              "      <td>1</td>\n",
              "      <td>18</td>\n",
              "      <td>1</td>\n",
              "      <td>10</td>\n",
              "    </tr>\n",
              "    <tr>\n",
              "      <th>431</th>\n",
              "      <td>40697</td>\n",
              "      <td>4/29/1987</td>\n",
              "      <td>1-Aug-2011</td>\n",
              "      <td>09-May-2016</td>\n",
              "      <td>4</td>\n",
              "      <td></td>\n",
              "      <td>0</td>\n",
              "      <td>0</td>\n",
              "      <td>68.5</td>\n",
              "      <td>131.92</td>\n",
              "      <td>...</td>\n",
              "      <td>91.01</td>\n",
              "      <td>86.87</td>\n",
              "      <td>70.25</td>\n",
              "      <td>82.67</td>\n",
              "      <td>In state</td>\n",
              "      <td>0</td>\n",
              "      <td>3</td>\n",
              "      <td>26</td>\n",
              "      <td>6</td>\n",
              "      <td>15</td>\n",
              "    </tr>\n",
              "    <tr>\n",
              "      <th>432</th>\n",
              "      <td>34272</td>\n",
              "      <td></td>\n",
              "      <td>1-Aug-2011</td>\n",
              "      <td>09-May-2016</td>\n",
              "      <td>4</td>\n",
              "      <td>nursing</td>\n",
              "      <td>0</td>\n",
              "      <td>1</td>\n",
              "      <td>68.1</td>\n",
              "      <td>130.07</td>\n",
              "      <td>...</td>\n",
              "      <td>81.05</td>\n",
              "      <td>85.76</td>\n",
              "      <td>58.16</td>\n",
              "      <td>81.87</td>\n",
              "      <td></td>\n",
              "      <td>0</td>\n",
              "      <td>3</td>\n",
              "      <td>29</td>\n",
              "      <td>6</td>\n",
              "      <td>10</td>\n",
              "    </tr>\n",
              "    <tr>\n",
              "      <th>433</th>\n",
              "      <td>33628</td>\n",
              "      <td></td>\n",
              "      <td>1-Aug-2011</td>\n",
              "      <td>08-May-2017</td>\n",
              "      <td>4</td>\n",
              "      <td>Nursing</td>\n",
              "      <td>1</td>\n",
              "      <td>1</td>\n",
              "      <td>69.27</td>\n",
              "      <td>157.26</td>\n",
              "      <td>...</td>\n",
              "      <td>75.59</td>\n",
              "      <td>85.97</td>\n",
              "      <td>66.84</td>\n",
              "      <td>79.35</td>\n",
              "      <td>In state</td>\n",
              "      <td>0</td>\n",
              "      <td>1</td>\n",
              "      <td>14</td>\n",
              "      <td>4</td>\n",
              "      <td>10</td>\n",
              "    </tr>\n",
              "    <tr>\n",
              "      <th>434</th>\n",
              "      <td>39298</td>\n",
              "      <td></td>\n",
              "      <td>1-Aug-2011</td>\n",
              "      <td>08-May-2017</td>\n",
              "      <td>4</td>\n",
              "      <td></td>\n",
              "      <td>1</td>\n",
              "      <td>1</td>\n",
              "      <td>66.68</td>\n",
              "      <td>152.33</td>\n",
              "      <td>...</td>\n",
              "      <td>75.65</td>\n",
              "      <td>77.24</td>\n",
              "      <td>60.24</td>\n",
              "      <td>75.23</td>\n",
              "      <td>In state</td>\n",
              "      <td>0</td>\n",
              "      <td>3</td>\n",
              "      <td>27</td>\n",
              "      <td>2</td>\n",
              "      <td>10</td>\n",
              "    </tr>\n",
              "  </tbody>\n",
              "</table>\n",
              "<p>435 rows × 23 columns</p>\n",
              "</div>\n",
              "      <button class=\"colab-df-convert\" onclick=\"convertToInteractive('df-136d6f15-fd31-45b6-82a0-4869601db1b8')\"\n",
              "              title=\"Convert this dataframe to an interactive table.\"\n",
              "              style=\"display:none;\">\n",
              "        \n",
              "  <svg xmlns=\"http://www.w3.org/2000/svg\" height=\"24px\"viewBox=\"0 0 24 24\"\n",
              "       width=\"24px\">\n",
              "    <path d=\"M0 0h24v24H0V0z\" fill=\"none\"/>\n",
              "    <path d=\"M18.56 5.44l.94 2.06.94-2.06 2.06-.94-2.06-.94-.94-2.06-.94 2.06-2.06.94zm-11 1L8.5 8.5l.94-2.06 2.06-.94-2.06-.94L8.5 2.5l-.94 2.06-2.06.94zm10 10l.94 2.06.94-2.06 2.06-.94-2.06-.94-.94-2.06-.94 2.06-2.06.94z\"/><path d=\"M17.41 7.96l-1.37-1.37c-.4-.4-.92-.59-1.43-.59-.52 0-1.04.2-1.43.59L10.3 9.45l-7.72 7.72c-.78.78-.78 2.05 0 2.83L4 21.41c.39.39.9.59 1.41.59.51 0 1.02-.2 1.41-.59l7.78-7.78 2.81-2.81c.8-.78.8-2.07 0-2.86zM5.41 20L4 18.59l7.72-7.72 1.47 1.35L5.41 20z\"/>\n",
              "  </svg>\n",
              "      </button>\n",
              "      \n",
              "  <style>\n",
              "    .colab-df-container {\n",
              "      display:flex;\n",
              "      flex-wrap:wrap;\n",
              "      gap: 12px;\n",
              "    }\n",
              "\n",
              "    .colab-df-convert {\n",
              "      background-color: #E8F0FE;\n",
              "      border: none;\n",
              "      border-radius: 50%;\n",
              "      cursor: pointer;\n",
              "      display: none;\n",
              "      fill: #1967D2;\n",
              "      height: 32px;\n",
              "      padding: 0 0 0 0;\n",
              "      width: 32px;\n",
              "    }\n",
              "\n",
              "    .colab-df-convert:hover {\n",
              "      background-color: #E2EBFA;\n",
              "      box-shadow: 0px 1px 2px rgba(60, 64, 67, 0.3), 0px 1px 3px 1px rgba(60, 64, 67, 0.15);\n",
              "      fill: #174EA6;\n",
              "    }\n",
              "\n",
              "    [theme=dark] .colab-df-convert {\n",
              "      background-color: #3B4455;\n",
              "      fill: #D2E3FC;\n",
              "    }\n",
              "\n",
              "    [theme=dark] .colab-df-convert:hover {\n",
              "      background-color: #434B5C;\n",
              "      box-shadow: 0px 1px 3px 1px rgba(0, 0, 0, 0.15);\n",
              "      filter: drop-shadow(0px 1px 2px rgba(0, 0, 0, 0.3));\n",
              "      fill: #FFFFFF;\n",
              "    }\n",
              "  </style>\n",
              "\n",
              "      <script>\n",
              "        const buttonEl =\n",
              "          document.querySelector('#df-136d6f15-fd31-45b6-82a0-4869601db1b8 button.colab-df-convert');\n",
              "        buttonEl.style.display =\n",
              "          google.colab.kernel.accessAllowed ? 'block' : 'none';\n",
              "\n",
              "        async function convertToInteractive(key) {\n",
              "          const element = document.querySelector('#df-136d6f15-fd31-45b6-82a0-4869601db1b8');\n",
              "          const dataTable =\n",
              "            await google.colab.kernel.invokeFunction('convertToInteractive',\n",
              "                                                     [key], {});\n",
              "          if (!dataTable) return;\n",
              "\n",
              "          const docLinkHtml = 'Like what you see? Visit the ' +\n",
              "            '<a target=\"_blank\" href=https://colab.research.google.com/notebooks/data_table.ipynb>data table notebook</a>'\n",
              "            + ' to learn more about interactive tables.';\n",
              "          element.innerHTML = '';\n",
              "          dataTable['output_type'] = 'display_data';\n",
              "          await google.colab.output.renderOutput(dataTable, element);\n",
              "          const docLink = document.createElement('div');\n",
              "          docLink.innerHTML = docLinkHtml;\n",
              "          element.appendChild(docLink);\n",
              "        }\n",
              "      </script>\n",
              "    </div>\n",
              "  </div>\n",
              "  "
            ]
          },
          "metadata": {},
          "execution_count": 55
        }
      ],
      "source": [
        "student = pd.read_csv(\"/content/students_2014.csv\")\n",
        "student"
      ]
    },
    {
      "cell_type": "code",
      "execution_count": 56,
      "metadata": {
        "colab": {
          "base_uri": "https://localhost:8080/"
        },
        "id": "tZNxE9uh4a2m",
        "outputId": "d2cfe33d-2b03-438c-86da-2771a1eb554d"
      },
      "outputs": [
        {
          "output_type": "stream",
          "name": "stdout",
          "text": [
            "<class 'pandas.core.frame.DataFrame'>\n",
            "RangeIndex: 435 entries, 0 to 434\n",
            "Data columns (total 23 columns):\n",
            " #   Column        Non-Null Count  Dtype \n",
            "---  ------        --------------  ----- \n",
            " 0   ids           435 non-null    int64 \n",
            " 1   bday          435 non-null    object\n",
            " 2   enrolldate    435 non-null    object\n",
            " 3   expgradate    435 non-null    object\n",
            " 4   Rank          435 non-null    object\n",
            " 5   Major         434 non-null    object\n",
            " 6   Gender        435 non-null    object\n",
            " 7   Athlete       435 non-null    int64 \n",
            " 8   Height        435 non-null    object\n",
            " 9   Weight        435 non-null    object\n",
            " 10  Smoking       435 non-null    object\n",
            " 11  Sprint        435 non-null    object\n",
            " 12  MileMinDur    435 non-null    object\n",
            " 13  English       435 non-null    object\n",
            " 14  Reading       435 non-null    object\n",
            " 15  Math          435 non-null    object\n",
            " 16  Writing       435 non-null    object\n",
            " 17  State         435 non-null    object\n",
            " 18  LiveOnCampus  435 non-null    object\n",
            " 19  HowCommute    435 non-null    object\n",
            " 20  CommuteTime   435 non-null    object\n",
            " 21  SleepTime     435 non-null    object\n",
            " 22  StudyTime     435 non-null    object\n",
            "dtypes: int64(2), object(21)\n",
            "memory usage: 78.3+ KB\n"
          ]
        }
      ],
      "source": [
        "student.info()"
      ]
    },
    {
      "cell_type": "code",
      "execution_count": null,
      "metadata": {
        "id": "g1pc6bE24a2n"
      },
      "outputs": [],
      "source": [
        "# scipy.stats.f_oneway(*samples, axis=0)[source]"
      ]
    },
    {
      "cell_type": "code",
      "source": [
        "student[\"Smoking\"] = pd.to_numeric(student[\"Smoking\"], errors=\"coerce\")"
      ],
      "metadata": {
        "id": "ILFcGltzA6RF"
      },
      "execution_count": 57,
      "outputs": []
    },
    {
      "cell_type": "code",
      "source": [
        "student[\"Sprint\"] = pd.to_numeric(student[\"Sprint\"], errors=\"coerce\")\n"
      ],
      "metadata": {
        "id": "DyuinqPCA8pY"
      },
      "execution_count": 58,
      "outputs": []
    },
    {
      "cell_type": "code",
      "source": [
        "student = student[[\"Sprint\", \"Smoking\"]].dropna()\n"
      ],
      "metadata": {
        "id": "AS3xBJMgA-gx"
      },
      "execution_count": 59,
      "outputs": []
    },
    {
      "cell_type": "code",
      "source": [
        "stats.f_oneway(student[student[\"Smoking\"]==0][\"Sprint\"], student[student[\"Smoking\"]==1][\"Sprint\"], student[student[\"Smoking\"]==2][\"Sprint\"])"
      ],
      "metadata": {
        "colab": {
          "base_uri": "https://localhost:8080/"
        },
        "id": "F3si5DzlA3iY",
        "outputId": "1a750ac2-7d9c-4d0f-9a1f-fd87d19e7727"
      },
      "execution_count": 60,
      "outputs": [
        {
          "output_type": "execute_result",
          "data": {
            "text/plain": [
              "F_onewayResult(statistic=9.208599845380919, pvalue=0.00012659768158159465)"
            ]
          },
          "metadata": {},
          "execution_count": 60
        }
      ]
    }
  ],
  "metadata": {
    "kernelspec": {
      "display_name": "Python 3",
      "language": "python",
      "name": "python3"
    },
    "language_info": {
      "codemirror_mode": {
        "name": "ipython",
        "version": 3
      },
      "file_extension": ".py",
      "mimetype": "text/x-python",
      "name": "python",
      "nbconvert_exporter": "python",
      "pygments_lexer": "ipython3",
      "version": "3.7.11"
    },
    "colab": {
      "provenance": [],
      "collapsed_sections": [],
      "include_colab_link": true
    }
  },
  "nbformat": 4,
  "nbformat_minor": 0
}