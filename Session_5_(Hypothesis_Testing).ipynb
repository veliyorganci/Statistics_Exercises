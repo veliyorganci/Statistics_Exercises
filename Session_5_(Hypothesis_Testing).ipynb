{
  "nbformat": 4,
  "nbformat_minor": 0,
  "metadata": {
    "kernelspec": {
      "display_name": "Python 3",
      "language": "python",
      "name": "python3"
    },
    "language_info": {
      "codemirror_mode": {
        "name": "ipython",
        "version": 3
      },
      "file_extension": ".py",
      "mimetype": "text/x-python",
      "name": "python",
      "nbconvert_exporter": "python",
      "pygments_lexer": "ipython3",
      "version": "3.7.4"
    },
    "colab": {
      "provenance": [],
      "collapsed_sections": [],
      "include_colab_link": true
    }
  },
  "cells": [
    {
      "cell_type": "markdown",
      "metadata": {
        "id": "view-in-github",
        "colab_type": "text"
      },
      "source": [
        "<a href=\"https://colab.research.google.com/github/veliyorganci/Statistics_Exercises/blob/main/Session_5_(Hypothesis_Testing).ipynb\" target=\"_parent\"><img src=\"https://colab.research.google.com/assets/colab-badge.svg\" alt=\"Open In Colab\"/></a>"
      ]
    },
    {
      "cell_type": "markdown",
      "metadata": {
        "id": "Kqhaon5X2lmL"
      },
      "source": [
        "# One Sample Z Test"
      ]
    },
    {
      "cell_type": "markdown",
      "metadata": {
        "id": "mJH02eQn2lmS"
      },
      "source": [
        "Performed when the population means and standard deviation are known."
      ]
    },
    {
      "cell_type": "markdown",
      "metadata": {
        "id": "SCxyfVJ72lmS"
      },
      "source": [
        "## Example-1"
      ]
    },
    {
      "cell_type": "markdown",
      "metadata": {
        "id": "5c00Iz_K2lmT"
      },
      "source": [
        "- Suppose that a beach is safe to swim if the mean level of lead in the water is 10.0 (μ0) parts/million.  \n",
        "- We assume Xi ~ N(μ, σ = 1.5)\n",
        "- Water safety is going to be determined by taking 40 water samples and using the test statistic. \n",
        "- Sample mean = 10.5\n",
        "- α = 0.05"
      ]
    },
    {
      "cell_type": "code",
      "source": [
        "import numpy as np\n",
        "from scipy import stats\n",
        "import matplotlib.pyplot as plt\n",
        "import seaborn as sns"
      ],
      "metadata": {
        "id": "X-DykAULjKyO"
      },
      "execution_count": 14,
      "outputs": []
    },
    {
      "cell_type": "code",
      "metadata": {
        "id": "fiWDbiDD2lmT"
      },
      "source": [
        "import scipy.stats as stats\n",
        "from math import sqrt"
      ],
      "execution_count": 15,
      "outputs": []
    },
    {
      "cell_type": "code",
      "source": [
        "# H0 : mu = 10\n",
        "# H1 : mu > 10"
      ],
      "metadata": {
        "id": "0gTX0sDAidZi"
      },
      "execution_count": 16,
      "outputs": []
    },
    {
      "cell_type": "code",
      "metadata": {
        "id": "5UU9HfZi2lmU"
      },
      "source": [
        "x_bar = 10.5\n",
        "n = 40\n",
        "sigma = 1.5 \n",
        "mu =  10"
      ],
      "execution_count": 17,
      "outputs": []
    },
    {
      "cell_type": "markdown",
      "metadata": {
        "id": "l62qBl7N2lmU"
      },
      "source": [
        "Calculate the test statistic"
      ]
    },
    {
      "cell_type": "code",
      "metadata": {
        "id": "nE_oBxpC2lmU",
        "colab": {
          "base_uri": "https://localhost:8080/"
        },
        "outputId": "4545a736-c4d8-4d20-b2be-197ccf82e312"
      },
      "source": [
        "z = (x_bar - mu) / (sigma/np.sqrt(n))\n",
        "z"
      ],
      "execution_count": 18,
      "outputs": [
        {
          "output_type": "execute_result",
          "data": {
            "text/plain": [
              "2.1081851067789197"
            ]
          },
          "metadata": {},
          "execution_count": 18
        }
      ]
    },
    {
      "cell_type": "markdown",
      "metadata": {
        "id": "WepdGOFB2lmV"
      },
      "source": [
        "Calculate the p-value"
      ]
    },
    {
      "cell_type": "code",
      "metadata": {
        "id": "fLEuq-_n2lmV",
        "colab": {
          "base_uri": "https://localhost:8080/"
        },
        "outputId": "18508200-853b-4789-bfa4-71f256dbb7c3"
      },
      "source": [
        "p_value = 1 - stats.norm.cdf(z)\n",
        "p_value"
      ],
      "execution_count": 20,
      "outputs": [
        {
          "output_type": "execute_result",
          "data": {
            "text/plain": [
              "0.017507490509831247"
            ]
          },
          "metadata": {},
          "execution_count": 20
        }
      ]
    },
    {
      "cell_type": "code",
      "source": [
        "# α = 0.05"
      ],
      "metadata": {
        "id": "g8TBLDBYjb_B"
      },
      "execution_count": null,
      "outputs": []
    },
    {
      "cell_type": "code",
      "metadata": {
        "id": "VoFW6ujX2lmW",
        "colab": {
          "base_uri": "https://localhost:8080/"
        },
        "outputId": "61846d1c-36df-4903-87e9-11bed27b862e"
      },
      "source": [
        "alpha = 0.05\n",
        "\n",
        "if p_value<alpha:\n",
        "    print('At {} level of significance, we can reject the null hypothesis in favor of alternative hypothesis.'.format(alpha))\n",
        "else:\n",
        "    print('At {} level of significance, we fail to reject the null hypothesis.'.format(alpha))"
      ],
      "execution_count": 21,
      "outputs": [
        {
          "output_type": "stream",
          "name": "stdout",
          "text": [
            "At 0.05 level of significance, we can reject the null hypothesis in favor of alternative hypothesis.\n"
          ]
        }
      ]
    },
    {
      "cell_type": "markdown",
      "metadata": {
        "id": "4NF7sUWC2lmW"
      },
      "source": [
        "## Example-2"
      ]
    },
    {
      "cell_type": "markdown",
      "metadata": {
        "id": "Au2DsyNY2lmW"
      },
      "source": [
        "- A department store manager determines that a new billing system will be cost-effective only if the mean monthly account is more than 170 dollars.\n",
        "- A random sample of 400 monthly accounts is drawn, for which the sample mean is 178 dollars. \n",
        "- The accounts are approximately normally distributed with a standard deviation of 65 dollars.\n",
        "\n",
        "\n",
        "- Can we conclude that the new system will be cost-effective?"
      ]
    },
    {
      "cell_type": "code",
      "source": [
        "# H0 : mu = 170\n",
        "# H1 > mu = 170"
      ],
      "metadata": {
        "id": "Y2Lt4gcUjuwR"
      },
      "execution_count": null,
      "outputs": []
    },
    {
      "cell_type": "code",
      "metadata": {
        "id": "j0ITIaMa2lmX"
      },
      "source": [
        "x_bar =  178\n",
        "n = 400\n",
        "sigma = 65\n",
        "mu =  170"
      ],
      "execution_count": 23,
      "outputs": []
    },
    {
      "cell_type": "markdown",
      "metadata": {
        "id": "D0DrjE6j2lmX"
      },
      "source": [
        "Calculate the test statistic"
      ]
    },
    {
      "cell_type": "code",
      "metadata": {
        "id": "HrYPrvfZ2lmX",
        "colab": {
          "base_uri": "https://localhost:8080/"
        },
        "outputId": "756eec9f-61f8-40e4-98b7-62569997e800"
      },
      "source": [
        "z = (x_bar - mu) / (sigma/np.sqrt(n))\n",
        "z"
      ],
      "execution_count": 24,
      "outputs": [
        {
          "output_type": "execute_result",
          "data": {
            "text/plain": [
              "2.4615384615384617"
            ]
          },
          "metadata": {},
          "execution_count": 24
        }
      ]
    },
    {
      "cell_type": "code",
      "source": [
        "#standart error\n",
        "\n",
        "sigma/ np.sqrt(n)"
      ],
      "metadata": {
        "colab": {
          "base_uri": "https://localhost:8080/"
        },
        "id": "5yydBVCtaGpG",
        "outputId": "060f5428-1a17-4ea6-c2ff-4f395b5fcff5"
      },
      "execution_count": 26,
      "outputs": [
        {
          "output_type": "execute_result",
          "data": {
            "text/plain": [
              "3.25"
            ]
          },
          "metadata": {},
          "execution_count": 26
        }
      ]
    },
    {
      "cell_type": "code",
      "metadata": {
        "id": "1N_sKTwk2lmX",
        "colab": {
          "base_uri": "https://localhost:8080/"
        },
        "outputId": "6d24caad-5be4-4d6f-8d77-875777f6c079"
      },
      "source": [
        "p_value = 1 - stats.norm.cdf(z)\n",
        "p_value"
      ],
      "execution_count": 25,
      "outputs": [
        {
          "output_type": "execute_result",
          "data": {
            "text/plain": [
              "0.006917128192854505"
            ]
          },
          "metadata": {},
          "execution_count": 25
        }
      ]
    },
    {
      "cell_type": "code",
      "source": [
        "# alternatif p value\n",
        "\n",
        "1 - stats.norm.cdf(178, 170, 3.25)"
      ],
      "metadata": {
        "colab": {
          "base_uri": "https://localhost:8080/"
        },
        "id": "IX9Dfotlkt95",
        "outputId": "f6030be6-9615-4a33-84f9-1200e70fbf36"
      },
      "execution_count": 27,
      "outputs": [
        {
          "output_type": "execute_result",
          "data": {
            "text/plain": [
              "0.006917128192854505"
            ]
          },
          "metadata": {},
          "execution_count": 27
        }
      ]
    },
    {
      "cell_type": "code",
      "metadata": {
        "id": "X-5r7FvF2lmY",
        "colab": {
          "base_uri": "https://localhost:8080/"
        },
        "outputId": "3d9cfb61-40f9-4ef6-9209-078713423b29"
      },
      "source": [
        "alpha = 0.05\n",
        "\n",
        "if p_value<alpha:\n",
        "    print('At {} level of significance, we can reject the null hypothesis in favor of alternative hypothesis.'.format(alpha))\n",
        "else:\n",
        "    print('At {} level of significance, we fail to reject the null hypothesis.'.format(alpha))"
      ],
      "execution_count": 28,
      "outputs": [
        {
          "output_type": "stream",
          "name": "stdout",
          "text": [
            "At 0.05 level of significance, we can reject the null hypothesis in favor of alternative hypothesis.\n"
          ]
        }
      ]
    },
    {
      "cell_type": "markdown",
      "metadata": {
        "id": "xHkk92Mv2lmY"
      },
      "source": [
        "# One Sample t Test"
      ]
    },
    {
      "cell_type": "markdown",
      "metadata": {
        "id": "vNwGgsvX2lmY"
      },
      "source": [
        "## Example-1"
      ]
    },
    {
      "cell_type": "markdown",
      "metadata": {
        "id": "OFdulawW2lmY"
      },
      "source": [
        "- Bon Air ELEM has 1000 students. The principal of the school thinks that the average IQ of students at Bon Air is at least 110. To prove her point, she administers an IQ test to 20 randomly selected students. \n",
        "- Among the sampled students, the average IQ is 108 with a standard deviation of 10. \n",
        "- Based on these results, should the principal accept or reject her original hypothesis? α = 0.01"
      ]
    },
    {
      "cell_type": "code",
      "metadata": {
        "id": "3e8xedXl2lmZ"
      },
      "source": [
        "x_bar =  108\n",
        "n = 20\n",
        "s = 10\n",
        "mu =  110\n",
        "alpha = 0.01    ## yüksek güvenirlilik 0.05 'göre elbette"
      ],
      "execution_count": 30,
      "outputs": []
    },
    {
      "cell_type": "markdown",
      "metadata": {
        "id": "QDnyEEXW2lmZ"
      },
      "source": [
        "Calculate the test statistic"
      ]
    },
    {
      "cell_type": "code",
      "metadata": {
        "id": "WFK3Khm42lmZ",
        "colab": {
          "base_uri": "https://localhost:8080/"
        },
        "outputId": "183759d5-fceb-499f-c64f-ba6466e10d29"
      },
      "source": [
        "t = (x_bar - mu) / (s/np.sqrt(n))\n",
        "t"
      ],
      "execution_count": 31,
      "outputs": [
        {
          "output_type": "execute_result",
          "data": {
            "text/plain": [
              "-0.8944271909999159"
            ]
          },
          "metadata": {},
          "execution_count": 31
        }
      ]
    },
    {
      "cell_type": "code",
      "metadata": {
        "id": "dIrAWEV22lmZ",
        "colab": {
          "base_uri": "https://localhost:8080/"
        },
        "outputId": "2f33cf4c-f9c4-41e8-8aa8-3074f902f4e8"
      },
      "source": [
        "p_value = stats.t.cdf(t, df=n-1)   # p_value oldukça yüksek geldi\n",
        "p_value"
      ],
      "execution_count": 33,
      "outputs": [
        {
          "output_type": "execute_result",
          "data": {
            "text/plain": [
              "0.1911420676837155"
            ]
          },
          "metadata": {},
          "execution_count": 33
        }
      ]
    },
    {
      "cell_type": "code",
      "metadata": {
        "id": "1pp13RAr2lmZ",
        "colab": {
          "base_uri": "https://localhost:8080/"
        },
        "outputId": "73e326e7-5b27-48b8-ec8a-d42b898eab2f"
      },
      "source": [
        "if p_value<alpha:\n",
        "    print('At {} level of significance, we can reject the null hypothesis in favor of alternative hypothesis.'.format(alpha))\n",
        "else:\n",
        "    print('At {} level of significance, we fail to reject the null hypothesis.'.format(alpha))"
      ],
      "execution_count": 34,
      "outputs": [
        {
          "output_type": "stream",
          "name": "stdout",
          "text": [
            "At 0.01 level of significance, we fail to reject the null hypothesis.\n"
          ]
        }
      ]
    },
    {
      "cell_type": "markdown",
      "metadata": {
        "id": "EmUB_dcx2lma"
      },
      "source": [
        "### From a dataset"
      ]
    },
    {
      "cell_type": "code",
      "source": [
        "pip install statsmodels"
      ],
      "metadata": {
        "id": "dNvZLfEqPORx",
        "colab": {
          "base_uri": "https://localhost:8080/"
        },
        "outputId": "904241b7-766a-4808-feb5-6008385415eb"
      },
      "execution_count": 35,
      "outputs": [
        {
          "output_type": "stream",
          "name": "stdout",
          "text": [
            "Looking in indexes: https://pypi.org/simple, https://us-python.pkg.dev/colab-wheels/public/simple/\n",
            "Requirement already satisfied: statsmodels in /usr/local/lib/python3.7/dist-packages (0.12.2)\n",
            "Requirement already satisfied: scipy>=1.1 in /usr/local/lib/python3.7/dist-packages (from statsmodels) (1.7.3)\n",
            "Requirement already satisfied: patsy>=0.5 in /usr/local/lib/python3.7/dist-packages (from statsmodels) (0.5.2)\n",
            "Requirement already satisfied: numpy>=1.15 in /usr/local/lib/python3.7/dist-packages (from statsmodels) (1.21.6)\n",
            "Requirement already satisfied: pandas>=0.21 in /usr/local/lib/python3.7/dist-packages (from statsmodels) (1.3.5)\n",
            "Requirement already satisfied: python-dateutil>=2.7.3 in /usr/local/lib/python3.7/dist-packages (from pandas>=0.21->statsmodels) (2.8.2)\n",
            "Requirement already satisfied: pytz>=2017.3 in /usr/local/lib/python3.7/dist-packages (from pandas>=0.21->statsmodels) (2022.2.1)\n",
            "Requirement already satisfied: six in /usr/local/lib/python3.7/dist-packages (from patsy>=0.5->statsmodels) (1.15.0)\n"
          ]
        }
      ]
    },
    {
      "cell_type": "code",
      "source": [
        "import statsmodels.api as sm"
      ],
      "metadata": {
        "id": "KRBN2Sutovir"
      },
      "execution_count": 36,
      "outputs": []
    },
    {
      "cell_type": "code",
      "metadata": {
        "id": "ptTC05Qk2lmd",
        "colab": {
          "base_uri": "https://localhost:8080/"
        },
        "outputId": "4b64725a-defa-4340-fc34-b322e4a8cec1"
      },
      "source": [
        "df = sm.datasets.get_rdataset(dataname = \"Pima.tr\", package = \"MASS\")\n",
        "df.keys()"
      ],
      "execution_count": 37,
      "outputs": [
        {
          "output_type": "execute_result",
          "data": {
            "text/plain": [
              "dict_keys(['data', '__doc__', 'package', 'title', 'from_cache'])"
            ]
          },
          "metadata": {},
          "execution_count": 37
        }
      ]
    },
    {
      "cell_type": "code",
      "source": [
        "print(df.__doc__)"
      ],
      "metadata": {
        "colab": {
          "base_uri": "https://localhost:8080/"
        },
        "id": "ALyWGhsyzanJ",
        "outputId": "98918b44-120c-4674-e070-823b713ab527"
      },
      "execution_count": 38,
      "outputs": [
        {
          "output_type": "stream",
          "name": "stdout",
          "text": [
            ".. container::\n",
            "\n",
            "   ======= ===============\n",
            "   Pima.tr R Documentation\n",
            "   ======= ===============\n",
            "\n",
            "   .. rubric:: Diabetes in Pima Indian Women\n",
            "      :name: diabetes-in-pima-indian-women\n",
            "\n",
            "   .. rubric:: Description\n",
            "      :name: description\n",
            "\n",
            "   A population of women who were at least 21 years old, of Pima Indian\n",
            "   heritage and living near Phoenix, Arizona, was tested for diabetes\n",
            "   according to World Health Organization criteria. The data were\n",
            "   collected by the US National Institute of Diabetes and Digestive and\n",
            "   Kidney Diseases. We used the 532 complete records after dropping the\n",
            "   (mainly missing) data on serum insulin.\n",
            "\n",
            "   .. rubric:: Usage\n",
            "      :name: usage\n",
            "\n",
            "   ::\n",
            "\n",
            "      Pima.tr\n",
            "      Pima.tr2\n",
            "      Pima.te\n",
            "\n",
            "   .. rubric:: Format\n",
            "      :name: format\n",
            "\n",
            "   These data frames contains the following columns:\n",
            "\n",
            "   ``npreg``\n",
            "      number of pregnancies.\n",
            "\n",
            "   ``glu``\n",
            "      plasma glucose concentration in an oral glucose tolerance test.\n",
            "\n",
            "   ``bp``\n",
            "      diastolic blood pressure (mm Hg).\n",
            "\n",
            "   ``skin``\n",
            "      triceps skin fold thickness (mm).\n",
            "\n",
            "   ``bmi``\n",
            "      body mass index (weight in kg/(height in m)\\ ``^2``).\n",
            "\n",
            "   ``ped``\n",
            "      diabetes pedigree function.\n",
            "\n",
            "   ``age``\n",
            "      age in years.\n",
            "\n",
            "   ``type``\n",
            "      ``Yes`` or ``No``, for diabetic according to WHO criteria.\n",
            "\n",
            "   .. rubric:: Details\n",
            "      :name: details\n",
            "\n",
            "   The training set ``Pima.tr`` contains a randomly selected set of 200\n",
            "   subjects, and ``Pima.te`` contains the remaining 332 subjects.\n",
            "   ``Pima.tr2`` contains ``Pima.tr`` plus 100 subjects with missing\n",
            "   values in the explanatory variables.\n",
            "\n",
            "   .. rubric:: Source\n",
            "      :name: source\n",
            "\n",
            "   Smith, J. W., Everhart, J. E., Dickson, W. C., Knowler, W. C. and\n",
            "   Johannes, R. S. (1988) Using the ADAP learning algorithm to forecast\n",
            "   the onset of *diabetes mellitus*. In *Proceedings of the Symposium on\n",
            "   Computer Applications in Medical Care (Washington, 1988),* ed. R. A.\n",
            "   Greenes, pp. 261–265. Los Alamitos, CA: IEEE Computer Society Press.\n",
            "\n",
            "   Ripley, B.D. (1996) *Pattern Recognition and Neural Networks.*\n",
            "   Cambridge: Cambridge University Press.\n",
            "\n"
          ]
        }
      ]
    },
    {
      "cell_type": "code",
      "metadata": {
        "id": "4XOYBjpM2lmd",
        "colab": {
          "base_uri": "https://localhost:8080/",
          "height": 424
        },
        "outputId": "8b39cc73-93b0-44ab-885e-af78e94a44b5"
      },
      "source": [
        "df.data"
      ],
      "execution_count": 39,
      "outputs": [
        {
          "output_type": "execute_result",
          "data": {
            "text/plain": [
              "     npreg  glu  bp  skin   bmi    ped  age type\n",
              "0        5   86  68    28  30.2  0.364   24   No\n",
              "1        7  195  70    33  25.1  0.163   55  Yes\n",
              "2        5   77  82    41  35.8  0.156   35   No\n",
              "3        0  165  76    43  47.9  0.259   26   No\n",
              "4        0  107  60    25  26.4  0.133   23   No\n",
              "..     ...  ...  ..   ...   ...    ...  ...  ...\n",
              "195      2  141  58    34  25.4  0.699   24   No\n",
              "196      7  129  68    49  38.5  0.439   43  Yes\n",
              "197      0  106  70    37  39.4  0.605   22   No\n",
              "198      1  118  58    36  33.3  0.261   23   No\n",
              "199      8  155  62    26  34.0  0.543   46  Yes\n",
              "\n",
              "[200 rows x 8 columns]"
            ],
            "text/html": [
              "\n",
              "  <div id=\"df-28393dd4-03eb-40e9-8193-85981f8a22b0\">\n",
              "    <div class=\"colab-df-container\">\n",
              "      <div>\n",
              "<style scoped>\n",
              "    .dataframe tbody tr th:only-of-type {\n",
              "        vertical-align: middle;\n",
              "    }\n",
              "\n",
              "    .dataframe tbody tr th {\n",
              "        vertical-align: top;\n",
              "    }\n",
              "\n",
              "    .dataframe thead th {\n",
              "        text-align: right;\n",
              "    }\n",
              "</style>\n",
              "<table border=\"1\" class=\"dataframe\">\n",
              "  <thead>\n",
              "    <tr style=\"text-align: right;\">\n",
              "      <th></th>\n",
              "      <th>npreg</th>\n",
              "      <th>glu</th>\n",
              "      <th>bp</th>\n",
              "      <th>skin</th>\n",
              "      <th>bmi</th>\n",
              "      <th>ped</th>\n",
              "      <th>age</th>\n",
              "      <th>type</th>\n",
              "    </tr>\n",
              "  </thead>\n",
              "  <tbody>\n",
              "    <tr>\n",
              "      <th>0</th>\n",
              "      <td>5</td>\n",
              "      <td>86</td>\n",
              "      <td>68</td>\n",
              "      <td>28</td>\n",
              "      <td>30.2</td>\n",
              "      <td>0.364</td>\n",
              "      <td>24</td>\n",
              "      <td>No</td>\n",
              "    </tr>\n",
              "    <tr>\n",
              "      <th>1</th>\n",
              "      <td>7</td>\n",
              "      <td>195</td>\n",
              "      <td>70</td>\n",
              "      <td>33</td>\n",
              "      <td>25.1</td>\n",
              "      <td>0.163</td>\n",
              "      <td>55</td>\n",
              "      <td>Yes</td>\n",
              "    </tr>\n",
              "    <tr>\n",
              "      <th>2</th>\n",
              "      <td>5</td>\n",
              "      <td>77</td>\n",
              "      <td>82</td>\n",
              "      <td>41</td>\n",
              "      <td>35.8</td>\n",
              "      <td>0.156</td>\n",
              "      <td>35</td>\n",
              "      <td>No</td>\n",
              "    </tr>\n",
              "    <tr>\n",
              "      <th>3</th>\n",
              "      <td>0</td>\n",
              "      <td>165</td>\n",
              "      <td>76</td>\n",
              "      <td>43</td>\n",
              "      <td>47.9</td>\n",
              "      <td>0.259</td>\n",
              "      <td>26</td>\n",
              "      <td>No</td>\n",
              "    </tr>\n",
              "    <tr>\n",
              "      <th>4</th>\n",
              "      <td>0</td>\n",
              "      <td>107</td>\n",
              "      <td>60</td>\n",
              "      <td>25</td>\n",
              "      <td>26.4</td>\n",
              "      <td>0.133</td>\n",
              "      <td>23</td>\n",
              "      <td>No</td>\n",
              "    </tr>\n",
              "    <tr>\n",
              "      <th>...</th>\n",
              "      <td>...</td>\n",
              "      <td>...</td>\n",
              "      <td>...</td>\n",
              "      <td>...</td>\n",
              "      <td>...</td>\n",
              "      <td>...</td>\n",
              "      <td>...</td>\n",
              "      <td>...</td>\n",
              "    </tr>\n",
              "    <tr>\n",
              "      <th>195</th>\n",
              "      <td>2</td>\n",
              "      <td>141</td>\n",
              "      <td>58</td>\n",
              "      <td>34</td>\n",
              "      <td>25.4</td>\n",
              "      <td>0.699</td>\n",
              "      <td>24</td>\n",
              "      <td>No</td>\n",
              "    </tr>\n",
              "    <tr>\n",
              "      <th>196</th>\n",
              "      <td>7</td>\n",
              "      <td>129</td>\n",
              "      <td>68</td>\n",
              "      <td>49</td>\n",
              "      <td>38.5</td>\n",
              "      <td>0.439</td>\n",
              "      <td>43</td>\n",
              "      <td>Yes</td>\n",
              "    </tr>\n",
              "    <tr>\n",
              "      <th>197</th>\n",
              "      <td>0</td>\n",
              "      <td>106</td>\n",
              "      <td>70</td>\n",
              "      <td>37</td>\n",
              "      <td>39.4</td>\n",
              "      <td>0.605</td>\n",
              "      <td>22</td>\n",
              "      <td>No</td>\n",
              "    </tr>\n",
              "    <tr>\n",
              "      <th>198</th>\n",
              "      <td>1</td>\n",
              "      <td>118</td>\n",
              "      <td>58</td>\n",
              "      <td>36</td>\n",
              "      <td>33.3</td>\n",
              "      <td>0.261</td>\n",
              "      <td>23</td>\n",
              "      <td>No</td>\n",
              "    </tr>\n",
              "    <tr>\n",
              "      <th>199</th>\n",
              "      <td>8</td>\n",
              "      <td>155</td>\n",
              "      <td>62</td>\n",
              "      <td>26</td>\n",
              "      <td>34.0</td>\n",
              "      <td>0.543</td>\n",
              "      <td>46</td>\n",
              "      <td>Yes</td>\n",
              "    </tr>\n",
              "  </tbody>\n",
              "</table>\n",
              "<p>200 rows × 8 columns</p>\n",
              "</div>\n",
              "      <button class=\"colab-df-convert\" onclick=\"convertToInteractive('df-28393dd4-03eb-40e9-8193-85981f8a22b0')\"\n",
              "              title=\"Convert this dataframe to an interactive table.\"\n",
              "              style=\"display:none;\">\n",
              "        \n",
              "  <svg xmlns=\"http://www.w3.org/2000/svg\" height=\"24px\"viewBox=\"0 0 24 24\"\n",
              "       width=\"24px\">\n",
              "    <path d=\"M0 0h24v24H0V0z\" fill=\"none\"/>\n",
              "    <path d=\"M18.56 5.44l.94 2.06.94-2.06 2.06-.94-2.06-.94-.94-2.06-.94 2.06-2.06.94zm-11 1L8.5 8.5l.94-2.06 2.06-.94-2.06-.94L8.5 2.5l-.94 2.06-2.06.94zm10 10l.94 2.06.94-2.06 2.06-.94-2.06-.94-.94-2.06-.94 2.06-2.06.94z\"/><path d=\"M17.41 7.96l-1.37-1.37c-.4-.4-.92-.59-1.43-.59-.52 0-1.04.2-1.43.59L10.3 9.45l-7.72 7.72c-.78.78-.78 2.05 0 2.83L4 21.41c.39.39.9.59 1.41.59.51 0 1.02-.2 1.41-.59l7.78-7.78 2.81-2.81c.8-.78.8-2.07 0-2.86zM5.41 20L4 18.59l7.72-7.72 1.47 1.35L5.41 20z\"/>\n",
              "  </svg>\n",
              "      </button>\n",
              "      \n",
              "  <style>\n",
              "    .colab-df-container {\n",
              "      display:flex;\n",
              "      flex-wrap:wrap;\n",
              "      gap: 12px;\n",
              "    }\n",
              "\n",
              "    .colab-df-convert {\n",
              "      background-color: #E8F0FE;\n",
              "      border: none;\n",
              "      border-radius: 50%;\n",
              "      cursor: pointer;\n",
              "      display: none;\n",
              "      fill: #1967D2;\n",
              "      height: 32px;\n",
              "      padding: 0 0 0 0;\n",
              "      width: 32px;\n",
              "    }\n",
              "\n",
              "    .colab-df-convert:hover {\n",
              "      background-color: #E2EBFA;\n",
              "      box-shadow: 0px 1px 2px rgba(60, 64, 67, 0.3), 0px 1px 3px 1px rgba(60, 64, 67, 0.15);\n",
              "      fill: #174EA6;\n",
              "    }\n",
              "\n",
              "    [theme=dark] .colab-df-convert {\n",
              "      background-color: #3B4455;\n",
              "      fill: #D2E3FC;\n",
              "    }\n",
              "\n",
              "    [theme=dark] .colab-df-convert:hover {\n",
              "      background-color: #434B5C;\n",
              "      box-shadow: 0px 1px 3px 1px rgba(0, 0, 0, 0.15);\n",
              "      filter: drop-shadow(0px 1px 2px rgba(0, 0, 0, 0.3));\n",
              "      fill: #FFFFFF;\n",
              "    }\n",
              "  </style>\n",
              "\n",
              "      <script>\n",
              "        const buttonEl =\n",
              "          document.querySelector('#df-28393dd4-03eb-40e9-8193-85981f8a22b0 button.colab-df-convert');\n",
              "        buttonEl.style.display =\n",
              "          google.colab.kernel.accessAllowed ? 'block' : 'none';\n",
              "\n",
              "        async function convertToInteractive(key) {\n",
              "          const element = document.querySelector('#df-28393dd4-03eb-40e9-8193-85981f8a22b0');\n",
              "          const dataTable =\n",
              "            await google.colab.kernel.invokeFunction('convertToInteractive',\n",
              "                                                     [key], {});\n",
              "          if (!dataTable) return;\n",
              "\n",
              "          const docLinkHtml = 'Like what you see? Visit the ' +\n",
              "            '<a target=\"_blank\" href=https://colab.research.google.com/notebooks/data_table.ipynb>data table notebook</a>'\n",
              "            + ' to learn more about interactive tables.';\n",
              "          element.innerHTML = '';\n",
              "          dataTable['output_type'] = 'display_data';\n",
              "          await google.colab.output.renderOutput(dataTable, element);\n",
              "          const docLink = document.createElement('div');\n",
              "          docLink.innerHTML = docLinkHtml;\n",
              "          element.appendChild(docLink);\n",
              "        }\n",
              "      </script>\n",
              "    </div>\n",
              "  </div>\n",
              "  "
            ]
          },
          "metadata": {},
          "execution_count": 39
        }
      ]
    },
    {
      "cell_type": "code",
      "metadata": {
        "id": "SYKw1Pfj2lmd"
      },
      "source": [
        "df = df.data"
      ],
      "execution_count": 40,
      "outputs": []
    },
    {
      "cell_type": "code",
      "metadata": {
        "id": "6vi-x7Xy2lme",
        "colab": {
          "base_uri": "https://localhost:8080/",
          "height": 206
        },
        "outputId": "b11a95dc-d48c-47dd-812f-b85cdfd6d026"
      },
      "source": [
        "df.head()"
      ],
      "execution_count": 41,
      "outputs": [
        {
          "output_type": "execute_result",
          "data": {
            "text/plain": [
              "   npreg  glu  bp  skin   bmi    ped  age type\n",
              "0      5   86  68    28  30.2  0.364   24   No\n",
              "1      7  195  70    33  25.1  0.163   55  Yes\n",
              "2      5   77  82    41  35.8  0.156   35   No\n",
              "3      0  165  76    43  47.9  0.259   26   No\n",
              "4      0  107  60    25  26.4  0.133   23   No"
            ],
            "text/html": [
              "\n",
              "  <div id=\"df-06246bb9-59f1-4668-9ab9-badd1d9d9ffa\">\n",
              "    <div class=\"colab-df-container\">\n",
              "      <div>\n",
              "<style scoped>\n",
              "    .dataframe tbody tr th:only-of-type {\n",
              "        vertical-align: middle;\n",
              "    }\n",
              "\n",
              "    .dataframe tbody tr th {\n",
              "        vertical-align: top;\n",
              "    }\n",
              "\n",
              "    .dataframe thead th {\n",
              "        text-align: right;\n",
              "    }\n",
              "</style>\n",
              "<table border=\"1\" class=\"dataframe\">\n",
              "  <thead>\n",
              "    <tr style=\"text-align: right;\">\n",
              "      <th></th>\n",
              "      <th>npreg</th>\n",
              "      <th>glu</th>\n",
              "      <th>bp</th>\n",
              "      <th>skin</th>\n",
              "      <th>bmi</th>\n",
              "      <th>ped</th>\n",
              "      <th>age</th>\n",
              "      <th>type</th>\n",
              "    </tr>\n",
              "  </thead>\n",
              "  <tbody>\n",
              "    <tr>\n",
              "      <th>0</th>\n",
              "      <td>5</td>\n",
              "      <td>86</td>\n",
              "      <td>68</td>\n",
              "      <td>28</td>\n",
              "      <td>30.2</td>\n",
              "      <td>0.364</td>\n",
              "      <td>24</td>\n",
              "      <td>No</td>\n",
              "    </tr>\n",
              "    <tr>\n",
              "      <th>1</th>\n",
              "      <td>7</td>\n",
              "      <td>195</td>\n",
              "      <td>70</td>\n",
              "      <td>33</td>\n",
              "      <td>25.1</td>\n",
              "      <td>0.163</td>\n",
              "      <td>55</td>\n",
              "      <td>Yes</td>\n",
              "    </tr>\n",
              "    <tr>\n",
              "      <th>2</th>\n",
              "      <td>5</td>\n",
              "      <td>77</td>\n",
              "      <td>82</td>\n",
              "      <td>41</td>\n",
              "      <td>35.8</td>\n",
              "      <td>0.156</td>\n",
              "      <td>35</td>\n",
              "      <td>No</td>\n",
              "    </tr>\n",
              "    <tr>\n",
              "      <th>3</th>\n",
              "      <td>0</td>\n",
              "      <td>165</td>\n",
              "      <td>76</td>\n",
              "      <td>43</td>\n",
              "      <td>47.9</td>\n",
              "      <td>0.259</td>\n",
              "      <td>26</td>\n",
              "      <td>No</td>\n",
              "    </tr>\n",
              "    <tr>\n",
              "      <th>4</th>\n",
              "      <td>0</td>\n",
              "      <td>107</td>\n",
              "      <td>60</td>\n",
              "      <td>25</td>\n",
              "      <td>26.4</td>\n",
              "      <td>0.133</td>\n",
              "      <td>23</td>\n",
              "      <td>No</td>\n",
              "    </tr>\n",
              "  </tbody>\n",
              "</table>\n",
              "</div>\n",
              "      <button class=\"colab-df-convert\" onclick=\"convertToInteractive('df-06246bb9-59f1-4668-9ab9-badd1d9d9ffa')\"\n",
              "              title=\"Convert this dataframe to an interactive table.\"\n",
              "              style=\"display:none;\">\n",
              "        \n",
              "  <svg xmlns=\"http://www.w3.org/2000/svg\" height=\"24px\"viewBox=\"0 0 24 24\"\n",
              "       width=\"24px\">\n",
              "    <path d=\"M0 0h24v24H0V0z\" fill=\"none\"/>\n",
              "    <path d=\"M18.56 5.44l.94 2.06.94-2.06 2.06-.94-2.06-.94-.94-2.06-.94 2.06-2.06.94zm-11 1L8.5 8.5l.94-2.06 2.06-.94-2.06-.94L8.5 2.5l-.94 2.06-2.06.94zm10 10l.94 2.06.94-2.06 2.06-.94-2.06-.94-.94-2.06-.94 2.06-2.06.94z\"/><path d=\"M17.41 7.96l-1.37-1.37c-.4-.4-.92-.59-1.43-.59-.52 0-1.04.2-1.43.59L10.3 9.45l-7.72 7.72c-.78.78-.78 2.05 0 2.83L4 21.41c.39.39.9.59 1.41.59.51 0 1.02-.2 1.41-.59l7.78-7.78 2.81-2.81c.8-.78.8-2.07 0-2.86zM5.41 20L4 18.59l7.72-7.72 1.47 1.35L5.41 20z\"/>\n",
              "  </svg>\n",
              "      </button>\n",
              "      \n",
              "  <style>\n",
              "    .colab-df-container {\n",
              "      display:flex;\n",
              "      flex-wrap:wrap;\n",
              "      gap: 12px;\n",
              "    }\n",
              "\n",
              "    .colab-df-convert {\n",
              "      background-color: #E8F0FE;\n",
              "      border: none;\n",
              "      border-radius: 50%;\n",
              "      cursor: pointer;\n",
              "      display: none;\n",
              "      fill: #1967D2;\n",
              "      height: 32px;\n",
              "      padding: 0 0 0 0;\n",
              "      width: 32px;\n",
              "    }\n",
              "\n",
              "    .colab-df-convert:hover {\n",
              "      background-color: #E2EBFA;\n",
              "      box-shadow: 0px 1px 2px rgba(60, 64, 67, 0.3), 0px 1px 3px 1px rgba(60, 64, 67, 0.15);\n",
              "      fill: #174EA6;\n",
              "    }\n",
              "\n",
              "    [theme=dark] .colab-df-convert {\n",
              "      background-color: #3B4455;\n",
              "      fill: #D2E3FC;\n",
              "    }\n",
              "\n",
              "    [theme=dark] .colab-df-convert:hover {\n",
              "      background-color: #434B5C;\n",
              "      box-shadow: 0px 1px 3px 1px rgba(0, 0, 0, 0.15);\n",
              "      filter: drop-shadow(0px 1px 2px rgba(0, 0, 0, 0.3));\n",
              "      fill: #FFFFFF;\n",
              "    }\n",
              "  </style>\n",
              "\n",
              "      <script>\n",
              "        const buttonEl =\n",
              "          document.querySelector('#df-06246bb9-59f1-4668-9ab9-badd1d9d9ffa button.colab-df-convert');\n",
              "        buttonEl.style.display =\n",
              "          google.colab.kernel.accessAllowed ? 'block' : 'none';\n",
              "\n",
              "        async function convertToInteractive(key) {\n",
              "          const element = document.querySelector('#df-06246bb9-59f1-4668-9ab9-badd1d9d9ffa');\n",
              "          const dataTable =\n",
              "            await google.colab.kernel.invokeFunction('convertToInteractive',\n",
              "                                                     [key], {});\n",
              "          if (!dataTable) return;\n",
              "\n",
              "          const docLinkHtml = 'Like what you see? Visit the ' +\n",
              "            '<a target=\"_blank\" href=https://colab.research.google.com/notebooks/data_table.ipynb>data table notebook</a>'\n",
              "            + ' to learn more about interactive tables.';\n",
              "          element.innerHTML = '';\n",
              "          dataTable['output_type'] = 'display_data';\n",
              "          await google.colab.output.renderOutput(dataTable, element);\n",
              "          const docLink = document.createElement('div');\n",
              "          docLink.innerHTML = docLinkHtml;\n",
              "          element.appendChild(docLink);\n",
              "        }\n",
              "      </script>\n",
              "    </div>\n",
              "  </div>\n",
              "  "
            ]
          },
          "metadata": {},
          "execution_count": 41
        }
      ]
    },
    {
      "cell_type": "code",
      "metadata": {
        "id": "FL2pS3wK2lme",
        "colab": {
          "base_uri": "https://localhost:8080/"
        },
        "outputId": "1ec4fa23-1fb7-4429-ca55-c9e090f6b362"
      },
      "source": [
        "df.info()"
      ],
      "execution_count": 42,
      "outputs": [
        {
          "output_type": "stream",
          "name": "stdout",
          "text": [
            "<class 'pandas.core.frame.DataFrame'>\n",
            "RangeIndex: 200 entries, 0 to 199\n",
            "Data columns (total 8 columns):\n",
            " #   Column  Non-Null Count  Dtype  \n",
            "---  ------  --------------  -----  \n",
            " 0   npreg   200 non-null    int64  \n",
            " 1   glu     200 non-null    int64  \n",
            " 2   bp      200 non-null    int64  \n",
            " 3   skin    200 non-null    int64  \n",
            " 4   bmi     200 non-null    float64\n",
            " 5   ped     200 non-null    float64\n",
            " 6   age     200 non-null    int64  \n",
            " 7   type    200 non-null    object \n",
            "dtypes: float64(2), int64(5), object(1)\n",
            "memory usage: 12.6+ KB\n"
          ]
        }
      ]
    },
    {
      "cell_type": "code",
      "source": [
        "df.describe()"
      ],
      "metadata": {
        "colab": {
          "base_uri": "https://localhost:8080/",
          "height": 300
        },
        "id": "hpuXURx2pkyB",
        "outputId": "588c2fd9-7089-4a7b-c7bf-bd8c33aa0e8b"
      },
      "execution_count": 43,
      "outputs": [
        {
          "output_type": "execute_result",
          "data": {
            "text/plain": [
              "            npreg         glu          bp        skin         bmi         ped  \\\n",
              "count  200.000000  200.000000  200.000000  200.000000  200.000000  200.000000   \n",
              "mean     3.570000  123.970000   71.260000   29.215000   32.310000    0.460765   \n",
              "std      3.366268   31.667225   11.479604   11.724594    6.130212    0.307225   \n",
              "min      0.000000   56.000000   38.000000    7.000000   18.200000    0.085000   \n",
              "25%      1.000000  100.000000   64.000000   20.750000   27.575000    0.253500   \n",
              "50%      2.000000  120.500000   70.000000   29.000000   32.800000    0.372500   \n",
              "75%      6.000000  144.000000   78.000000   36.000000   36.500000    0.616000   \n",
              "max     14.000000  199.000000  110.000000   99.000000   47.900000    2.288000   \n",
              "\n",
              "              age  \n",
              "count  200.000000  \n",
              "mean    32.110000  \n",
              "std     10.975436  \n",
              "min     21.000000  \n",
              "25%     23.000000  \n",
              "50%     28.000000  \n",
              "75%     39.250000  \n",
              "max     63.000000  "
            ],
            "text/html": [
              "\n",
              "  <div id=\"df-70b9ccdd-6a75-4d52-bb23-6104dad3a2eb\">\n",
              "    <div class=\"colab-df-container\">\n",
              "      <div>\n",
              "<style scoped>\n",
              "    .dataframe tbody tr th:only-of-type {\n",
              "        vertical-align: middle;\n",
              "    }\n",
              "\n",
              "    .dataframe tbody tr th {\n",
              "        vertical-align: top;\n",
              "    }\n",
              "\n",
              "    .dataframe thead th {\n",
              "        text-align: right;\n",
              "    }\n",
              "</style>\n",
              "<table border=\"1\" class=\"dataframe\">\n",
              "  <thead>\n",
              "    <tr style=\"text-align: right;\">\n",
              "      <th></th>\n",
              "      <th>npreg</th>\n",
              "      <th>glu</th>\n",
              "      <th>bp</th>\n",
              "      <th>skin</th>\n",
              "      <th>bmi</th>\n",
              "      <th>ped</th>\n",
              "      <th>age</th>\n",
              "    </tr>\n",
              "  </thead>\n",
              "  <tbody>\n",
              "    <tr>\n",
              "      <th>count</th>\n",
              "      <td>200.000000</td>\n",
              "      <td>200.000000</td>\n",
              "      <td>200.000000</td>\n",
              "      <td>200.000000</td>\n",
              "      <td>200.000000</td>\n",
              "      <td>200.000000</td>\n",
              "      <td>200.000000</td>\n",
              "    </tr>\n",
              "    <tr>\n",
              "      <th>mean</th>\n",
              "      <td>3.570000</td>\n",
              "      <td>123.970000</td>\n",
              "      <td>71.260000</td>\n",
              "      <td>29.215000</td>\n",
              "      <td>32.310000</td>\n",
              "      <td>0.460765</td>\n",
              "      <td>32.110000</td>\n",
              "    </tr>\n",
              "    <tr>\n",
              "      <th>std</th>\n",
              "      <td>3.366268</td>\n",
              "      <td>31.667225</td>\n",
              "      <td>11.479604</td>\n",
              "      <td>11.724594</td>\n",
              "      <td>6.130212</td>\n",
              "      <td>0.307225</td>\n",
              "      <td>10.975436</td>\n",
              "    </tr>\n",
              "    <tr>\n",
              "      <th>min</th>\n",
              "      <td>0.000000</td>\n",
              "      <td>56.000000</td>\n",
              "      <td>38.000000</td>\n",
              "      <td>7.000000</td>\n",
              "      <td>18.200000</td>\n",
              "      <td>0.085000</td>\n",
              "      <td>21.000000</td>\n",
              "    </tr>\n",
              "    <tr>\n",
              "      <th>25%</th>\n",
              "      <td>1.000000</td>\n",
              "      <td>100.000000</td>\n",
              "      <td>64.000000</td>\n",
              "      <td>20.750000</td>\n",
              "      <td>27.575000</td>\n",
              "      <td>0.253500</td>\n",
              "      <td>23.000000</td>\n",
              "    </tr>\n",
              "    <tr>\n",
              "      <th>50%</th>\n",
              "      <td>2.000000</td>\n",
              "      <td>120.500000</td>\n",
              "      <td>70.000000</td>\n",
              "      <td>29.000000</td>\n",
              "      <td>32.800000</td>\n",
              "      <td>0.372500</td>\n",
              "      <td>28.000000</td>\n",
              "    </tr>\n",
              "    <tr>\n",
              "      <th>75%</th>\n",
              "      <td>6.000000</td>\n",
              "      <td>144.000000</td>\n",
              "      <td>78.000000</td>\n",
              "      <td>36.000000</td>\n",
              "      <td>36.500000</td>\n",
              "      <td>0.616000</td>\n",
              "      <td>39.250000</td>\n",
              "    </tr>\n",
              "    <tr>\n",
              "      <th>max</th>\n",
              "      <td>14.000000</td>\n",
              "      <td>199.000000</td>\n",
              "      <td>110.000000</td>\n",
              "      <td>99.000000</td>\n",
              "      <td>47.900000</td>\n",
              "      <td>2.288000</td>\n",
              "      <td>63.000000</td>\n",
              "    </tr>\n",
              "  </tbody>\n",
              "</table>\n",
              "</div>\n",
              "      <button class=\"colab-df-convert\" onclick=\"convertToInteractive('df-70b9ccdd-6a75-4d52-bb23-6104dad3a2eb')\"\n",
              "              title=\"Convert this dataframe to an interactive table.\"\n",
              "              style=\"display:none;\">\n",
              "        \n",
              "  <svg xmlns=\"http://www.w3.org/2000/svg\" height=\"24px\"viewBox=\"0 0 24 24\"\n",
              "       width=\"24px\">\n",
              "    <path d=\"M0 0h24v24H0V0z\" fill=\"none\"/>\n",
              "    <path d=\"M18.56 5.44l.94 2.06.94-2.06 2.06-.94-2.06-.94-.94-2.06-.94 2.06-2.06.94zm-11 1L8.5 8.5l.94-2.06 2.06-.94-2.06-.94L8.5 2.5l-.94 2.06-2.06.94zm10 10l.94 2.06.94-2.06 2.06-.94-2.06-.94-.94-2.06-.94 2.06-2.06.94z\"/><path d=\"M17.41 7.96l-1.37-1.37c-.4-.4-.92-.59-1.43-.59-.52 0-1.04.2-1.43.59L10.3 9.45l-7.72 7.72c-.78.78-.78 2.05 0 2.83L4 21.41c.39.39.9.59 1.41.59.51 0 1.02-.2 1.41-.59l7.78-7.78 2.81-2.81c.8-.78.8-2.07 0-2.86zM5.41 20L4 18.59l7.72-7.72 1.47 1.35L5.41 20z\"/>\n",
              "  </svg>\n",
              "      </button>\n",
              "      \n",
              "  <style>\n",
              "    .colab-df-container {\n",
              "      display:flex;\n",
              "      flex-wrap:wrap;\n",
              "      gap: 12px;\n",
              "    }\n",
              "\n",
              "    .colab-df-convert {\n",
              "      background-color: #E8F0FE;\n",
              "      border: none;\n",
              "      border-radius: 50%;\n",
              "      cursor: pointer;\n",
              "      display: none;\n",
              "      fill: #1967D2;\n",
              "      height: 32px;\n",
              "      padding: 0 0 0 0;\n",
              "      width: 32px;\n",
              "    }\n",
              "\n",
              "    .colab-df-convert:hover {\n",
              "      background-color: #E2EBFA;\n",
              "      box-shadow: 0px 1px 2px rgba(60, 64, 67, 0.3), 0px 1px 3px 1px rgba(60, 64, 67, 0.15);\n",
              "      fill: #174EA6;\n",
              "    }\n",
              "\n",
              "    [theme=dark] .colab-df-convert {\n",
              "      background-color: #3B4455;\n",
              "      fill: #D2E3FC;\n",
              "    }\n",
              "\n",
              "    [theme=dark] .colab-df-convert:hover {\n",
              "      background-color: #434B5C;\n",
              "      box-shadow: 0px 1px 3px 1px rgba(0, 0, 0, 0.15);\n",
              "      filter: drop-shadow(0px 1px 2px rgba(0, 0, 0, 0.3));\n",
              "      fill: #FFFFFF;\n",
              "    }\n",
              "  </style>\n",
              "\n",
              "      <script>\n",
              "        const buttonEl =\n",
              "          document.querySelector('#df-70b9ccdd-6a75-4d52-bb23-6104dad3a2eb button.colab-df-convert');\n",
              "        buttonEl.style.display =\n",
              "          google.colab.kernel.accessAllowed ? 'block' : 'none';\n",
              "\n",
              "        async function convertToInteractive(key) {\n",
              "          const element = document.querySelector('#df-70b9ccdd-6a75-4d52-bb23-6104dad3a2eb');\n",
              "          const dataTable =\n",
              "            await google.colab.kernel.invokeFunction('convertToInteractive',\n",
              "                                                     [key], {});\n",
              "          if (!dataTable) return;\n",
              "\n",
              "          const docLinkHtml = 'Like what you see? Visit the ' +\n",
              "            '<a target=\"_blank\" href=https://colab.research.google.com/notebooks/data_table.ipynb>data table notebook</a>'\n",
              "            + ' to learn more about interactive tables.';\n",
              "          element.innerHTML = '';\n",
              "          dataTable['output_type'] = 'display_data';\n",
              "          await google.colab.output.renderOutput(dataTable, element);\n",
              "          const docLink = document.createElement('div');\n",
              "          docLink.innerHTML = docLinkHtml;\n",
              "          element.appendChild(docLink);\n",
              "        }\n",
              "      </script>\n",
              "    </div>\n",
              "  </div>\n",
              "  "
            ]
          },
          "metadata": {},
          "execution_count": 43
        }
      ]
    },
    {
      "cell_type": "code",
      "source": [
        "# suppose we hypothesize that the population mean of bmi among Pima Indian women is above 30.\n",
        "# Because we found sample mean as x_bar = 32.3"
      ],
      "metadata": {
        "id": "v5ZNrdCipfQR"
      },
      "execution_count": null,
      "outputs": []
    },
    {
      "cell_type": "code",
      "metadata": {
        "id": "UzADeHMr2lme"
      },
      "source": [
        "# bmi mean: \n",
        "# Ho: mu = 30\n",
        "# Ha: mu >30"
      ],
      "execution_count": null,
      "outputs": []
    },
    {
      "cell_type": "code",
      "source": [
        "df.bmi.mean()"
      ],
      "metadata": {
        "colab": {
          "base_uri": "https://localhost:8080/"
        },
        "id": "5A5ERaKV05V5",
        "outputId": "e7d3445f-59ad-4fc5-93fb-b39e60e0d0aa"
      },
      "execution_count": 44,
      "outputs": [
        {
          "output_type": "execute_result",
          "data": {
            "text/plain": [
              "32.31"
            ]
          },
          "metadata": {},
          "execution_count": 44
        }
      ]
    },
    {
      "cell_type": "code",
      "source": [
        "# sample size (n) = 200\n",
        "# sample std (s)= 6.13\n",
        "# sample mean (x_bar)= 32.31"
      ],
      "metadata": {
        "id": "nMEr9EjNqPNZ"
      },
      "execution_count": null,
      "outputs": []
    },
    {
      "cell_type": "code",
      "source": [
        "onesample = stats.ttest_1samp(df.bmi, 30, alternative='greater')\n",
        "onesample"
      ],
      "metadata": {
        "colab": {
          "base_uri": "https://localhost:8080/"
        },
        "id": "7RSwAYnJ1EtA",
        "outputId": "b6f9bf53-2094-4522-cb2e-f97f86c51492"
      },
      "execution_count": 45,
      "outputs": [
        {
          "output_type": "execute_result",
          "data": {
            "text/plain": [
              "Ttest_1sampResult(statistic=5.329070841262502, pvalue=1.3307205153727868e-07)"
            ]
          },
          "metadata": {},
          "execution_count": 45
        }
      ]
    },
    {
      "cell_type": "code",
      "source": [
        "onesample.statistic"
      ],
      "metadata": {
        "colab": {
          "base_uri": "https://localhost:8080/"
        },
        "id": "SPG1IPeApsZc",
        "outputId": "b436f9dd-db23-44f8-93f9-c5d78264d906"
      },
      "execution_count": 47,
      "outputs": [
        {
          "output_type": "execute_result",
          "data": {
            "text/plain": [
              "5.329070841262502"
            ]
          },
          "metadata": {},
          "execution_count": 47
        }
      ]
    },
    {
      "cell_type": "code",
      "source": [
        "1 -  stats.t.cdf(onesample.statistic, 199)"
      ],
      "metadata": {
        "colab": {
          "base_uri": "https://localhost:8080/"
        },
        "id": "JN6Z6QR7pxyX",
        "outputId": "30df1339-7cbf-4049-82bf-6bab5d67cbe7"
      },
      "execution_count": 49,
      "outputs": [
        {
          "output_type": "execute_result",
          "data": {
            "text/plain": [
              "1.3307205160018043e-07"
            ]
          },
          "metadata": {},
          "execution_count": 49
        }
      ]
    },
    {
      "cell_type": "code",
      "source": [
        "#help(stats.ttest_1samp)"
      ],
      "metadata": {
        "id": "BajL1_hdbOhy"
      },
      "execution_count": null,
      "outputs": []
    },
    {
      "cell_type": "code",
      "source": [
        "stats.ttest_1samp(df.bmi, 30)"
      ],
      "metadata": {
        "id": "D7L_RW2Y_LDr",
        "colab": {
          "base_uri": "https://localhost:8080/"
        },
        "outputId": "f3e1dafe-426b-43f7-805b-a7520262112a"
      },
      "execution_count": 46,
      "outputs": [
        {
          "output_type": "execute_result",
          "data": {
            "text/plain": [
              "Ttest_1sampResult(statistic=5.329070841262502, pvalue=2.6614410307455736e-07)"
            ]
          },
          "metadata": {},
          "execution_count": 46
        }
      ]
    },
    {
      "cell_type": "code",
      "source": [],
      "metadata": {
        "id": "saa8IijIpg-X"
      },
      "execution_count": null,
      "outputs": []
    }
  ]
}